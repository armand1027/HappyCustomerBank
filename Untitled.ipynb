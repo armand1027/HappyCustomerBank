{
 "cells": [
  {
   "cell_type": "code",
   "execution_count": 2,
   "metadata": {},
   "outputs": [],
   "source": [
    "import pandas as pd\n",
    "data = pd.read_csv(\"Dane/ai4i2020.csv\", sep=\";\",decimal=\",\")\n",
    "\n",
    "# import seaborn as sns\n",
    "# sns.pairplot(data=data, size=2)\n",
    "# plt.show()"
   ]
  },
  {
   "cell_type": "code",
   "execution_count": 15,
   "metadata": {},
   "outputs": [
    {
     "data": {
      "text/html": [
       "<div>\n",
       "<style scoped>\n",
       "    .dataframe tbody tr th:only-of-type {\n",
       "        vertical-align: middle;\n",
       "    }\n",
       "\n",
       "    .dataframe tbody tr th {\n",
       "        vertical-align: top;\n",
       "    }\n",
       "\n",
       "    .dataframe thead th {\n",
       "        text-align: right;\n",
       "    }\n",
       "</style>\n",
       "<table border=\"1\" class=\"dataframe\">\n",
       "  <thead>\n",
       "    <tr style=\"text-align: right;\">\n",
       "      <th></th>\n",
       "      <th>UDI,Product ID,Type,Air temperature [K],Process temperature [K],Rotational speed [rpm],Torque [Nm],Tool wear [min],Machine failure,TWF,HDF,PWF,OSF,RNF</th>\n",
       "    </tr>\n",
       "  </thead>\n",
       "  <tbody>\n",
       "    <tr>\n",
       "      <th>0</th>\n",
       "      <td>1,M14860,M,298.1,308.6,1551,42.8,0,0,0,0,0,0,0</td>\n",
       "    </tr>\n",
       "    <tr>\n",
       "      <th>1</th>\n",
       "      <td>2,L47181,L,298.2,308.7,1408,46.3,3,0,0,0,0,0,0</td>\n",
       "    </tr>\n",
       "    <tr>\n",
       "      <th>2</th>\n",
       "      <td>3,L47182,L,298.1,308.5,1498,49.4,5,0,0,0,0,0,0</td>\n",
       "    </tr>\n",
       "    <tr>\n",
       "      <th>3</th>\n",
       "      <td>4,L47183,L,298.2,308.6,1433,39.5,7,0,0,0,0,0,0</td>\n",
       "    </tr>\n",
       "    <tr>\n",
       "      <th>4</th>\n",
       "      <td>5,L47184,L,298.2,308.7,1408,40.0,9,0,0,0,0,0,0</td>\n",
       "    </tr>\n",
       "    <tr>\n",
       "      <th>...</th>\n",
       "      <td>...</td>\n",
       "    </tr>\n",
       "    <tr>\n",
       "      <th>9995</th>\n",
       "      <td>9996,M24855,M,298.8,308.4,1604,29.5,14,0,0,0,0...</td>\n",
       "    </tr>\n",
       "    <tr>\n",
       "      <th>9996</th>\n",
       "      <td>9997,H39410,H,298.9,308.4,1632,31.8,17,0,0,0,0...</td>\n",
       "    </tr>\n",
       "    <tr>\n",
       "      <th>9997</th>\n",
       "      <td>9998,M24857,M,299.0,308.6,1645,33.4,22,0,0,0,0...</td>\n",
       "    </tr>\n",
       "    <tr>\n",
       "      <th>9998</th>\n",
       "      <td>9999,H39412,H,299.0,308.7,1408,48.5,25,0,0,0,0...</td>\n",
       "    </tr>\n",
       "    <tr>\n",
       "      <th>9999</th>\n",
       "      <td>10000,M24859,M,299.0,308.7,1500,40.2,30,0,0,0,...</td>\n",
       "    </tr>\n",
       "  </tbody>\n",
       "</table>\n",
       "<p>10000 rows × 1 columns</p>\n",
       "</div>"
      ],
      "text/plain": [
       "     UDI,Product ID,Type,Air temperature [K],Process temperature [K],Rotational speed [rpm],Torque [Nm],Tool wear [min],Machine failure,TWF,HDF,PWF,OSF,RNF\n",
       "0        1,M14860,M,298.1,308.6,1551,42.8,0,0,0,0,0,0,0                                                                                                    \n",
       "1        2,L47181,L,298.2,308.7,1408,46.3,3,0,0,0,0,0,0                                                                                                    \n",
       "2        3,L47182,L,298.1,308.5,1498,49.4,5,0,0,0,0,0,0                                                                                                    \n",
       "3        4,L47183,L,298.2,308.6,1433,39.5,7,0,0,0,0,0,0                                                                                                    \n",
       "4        5,L47184,L,298.2,308.7,1408,40.0,9,0,0,0,0,0,0                                                                                                    \n",
       "...                                                 ...                                                                                                    \n",
       "9995  9996,M24855,M,298.8,308.4,1604,29.5,14,0,0,0,0...                                                                                                    \n",
       "9996  9997,H39410,H,298.9,308.4,1632,31.8,17,0,0,0,0...                                                                                                    \n",
       "9997  9998,M24857,M,299.0,308.6,1645,33.4,22,0,0,0,0...                                                                                                    \n",
       "9998  9999,H39412,H,299.0,308.7,1408,48.5,25,0,0,0,0...                                                                                                    \n",
       "9999  10000,M24859,M,299.0,308.7,1500,40.2,30,0,0,0,...                                                                                                    \n",
       "\n",
       "[10000 rows x 1 columns]"
      ]
     },
     "execution_count": 15,
     "metadata": {},
     "output_type": "execute_result"
    }
   ],
   "source": [
    "data"
   ]
  },
  {
   "cell_type": "code",
   "execution_count": null,
   "metadata": {},
   "outputs": [],
   "source": []
  },
  {
   "cell_type": "code",
   "execution_count": null,
   "metadata": {},
   "outputs": [],
   "source": []
  }
 ],
 "metadata": {
  "kernelspec": {
   "display_name": "Python 3",
   "language": "python",
   "name": "python3"
  },
  "language_info": {
   "codemirror_mode": {
    "name": "ipython",
    "version": 3
   },
   "file_extension": ".py",
   "mimetype": "text/x-python",
   "name": "python",
   "nbconvert_exporter": "python",
   "pygments_lexer": "ipython3",
   "version": "3.8.5"
  }
 },
 "nbformat": 4,
 "nbformat_minor": 4
}

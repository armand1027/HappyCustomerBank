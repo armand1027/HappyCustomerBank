{
 "cells": [
  {
   "cell_type": "code",
   "execution_count": 1,
   "metadata": {},
   "outputs": [],
   "source": [
    "import pandas as pd\n",
    "import numpy as np\n",
    "import matplotlib.pyplot as plt\n",
    "%matplotlib inline\n",
    "from sklearn.model_selection import train_test_split\n",
    "from sklearn.metrics import roc_auc_score, accuracy_score, roc_curve, confusion_matrix, f1_score\n",
    "from sklearn.linear_model import LogisticRegression\n",
    "from sklearn.tree import DecisionTreeClassifier\n",
    "from sklearn.ensemble import RandomForestClassifier\n",
    "from xgboost.sklearn import XGBClassifier\n",
    "from tabulate import tabulate\n"
   ]
  },
  {
   "cell_type": "markdown",
   "metadata": {},
   "source": [
    "# Data load"
   ]
  },
  {
   "cell_type": "code",
   "execution_count": 2,
   "metadata": {},
   "outputs": [
    {
     "name": "stdout",
     "output_type": "stream",
     "text": [
      "(86546, 36)\n"
     ]
    },
    {
     "data": {
      "text/html": [
       "<div>\n",
       "<style scoped>\n",
       "    .dataframe tbody tr th:only-of-type {\n",
       "        vertical-align: middle;\n",
       "    }\n",
       "\n",
       "    .dataframe tbody tr th {\n",
       "        vertical-align: top;\n",
       "    }\n",
       "\n",
       "    .dataframe thead th {\n",
       "        text-align: right;\n",
       "    }\n",
       "</style>\n",
       "<table border=\"1\" class=\"dataframe\">\n",
       "  <thead>\n",
       "    <tr style=\"text-align: right;\">\n",
       "      <th></th>\n",
       "      <th>Unnamed: 0</th>\n",
       "      <th>Loan_Amount_Applied</th>\n",
       "      <th>Loan_Tenure_Applied</th>\n",
       "      <th>Existing_EMI</th>\n",
       "      <th>Mobile_Verified</th>\n",
       "      <th>Var5</th>\n",
       "      <th>Loan_Amount_Submitted</th>\n",
       "      <th>Loan_Tenure_Submitted</th>\n",
       "      <th>Interest_Rate</th>\n",
       "      <th>Processing_Fee</th>\n",
       "      <th>...</th>\n",
       "      <th>Var1_cat_II</th>\n",
       "      <th>Var1_cat_III</th>\n",
       "      <th>Var2_cat_I</th>\n",
       "      <th>Var2_cat_II</th>\n",
       "      <th>Var4_cat_I</th>\n",
       "      <th>Var4_cat_II</th>\n",
       "      <th>Var4_cat_III</th>\n",
       "      <th>Source_cat_I</th>\n",
       "      <th>Source_cat_II</th>\n",
       "      <th>Source_cat_III</th>\n",
       "    </tr>\n",
       "  </thead>\n",
       "  <tbody>\n",
       "    <tr>\n",
       "      <th>0</th>\n",
       "      <td>0</td>\n",
       "      <td>300000.0</td>\n",
       "      <td>5.0</td>\n",
       "      <td>0.0</td>\n",
       "      <td>0</td>\n",
       "      <td>0</td>\n",
       "      <td>5.0</td>\n",
       "      <td>0.0</td>\n",
       "      <td>0.00</td>\n",
       "      <td>0.0</td>\n",
       "      <td>...</td>\n",
       "      <td>0</td>\n",
       "      <td>1</td>\n",
       "      <td>0</td>\n",
       "      <td>1</td>\n",
       "      <td>0</td>\n",
       "      <td>0</td>\n",
       "      <td>1</td>\n",
       "      <td>0</td>\n",
       "      <td>1</td>\n",
       "      <td>0</td>\n",
       "    </tr>\n",
       "    <tr>\n",
       "      <th>1</th>\n",
       "      <td>1</td>\n",
       "      <td>200000.0</td>\n",
       "      <td>2.0</td>\n",
       "      <td>0.0</td>\n",
       "      <td>1</td>\n",
       "      <td>13</td>\n",
       "      <td>2.0</td>\n",
       "      <td>2.0</td>\n",
       "      <td>13.25</td>\n",
       "      <td>0.0</td>\n",
       "      <td>...</td>\n",
       "      <td>0</td>\n",
       "      <td>0</td>\n",
       "      <td>0</td>\n",
       "      <td>1</td>\n",
       "      <td>0</td>\n",
       "      <td>1</td>\n",
       "      <td>0</td>\n",
       "      <td>0</td>\n",
       "      <td>1</td>\n",
       "      <td>0</td>\n",
       "    </tr>\n",
       "    <tr>\n",
       "      <th>2</th>\n",
       "      <td>2</td>\n",
       "      <td>600000.0</td>\n",
       "      <td>4.0</td>\n",
       "      <td>0.0</td>\n",
       "      <td>1</td>\n",
       "      <td>0</td>\n",
       "      <td>4.0</td>\n",
       "      <td>4.0</td>\n",
       "      <td>0.00</td>\n",
       "      <td>0.0</td>\n",
       "      <td>...</td>\n",
       "      <td>0</td>\n",
       "      <td>1</td>\n",
       "      <td>1</td>\n",
       "      <td>0</td>\n",
       "      <td>0</td>\n",
       "      <td>0</td>\n",
       "      <td>1</td>\n",
       "      <td>0</td>\n",
       "      <td>1</td>\n",
       "      <td>0</td>\n",
       "    </tr>\n",
       "    <tr>\n",
       "      <th>3</th>\n",
       "      <td>3</td>\n",
       "      <td>1000000.0</td>\n",
       "      <td>5.0</td>\n",
       "      <td>0.0</td>\n",
       "      <td>1</td>\n",
       "      <td>10</td>\n",
       "      <td>5.0</td>\n",
       "      <td>5.0</td>\n",
       "      <td>0.00</td>\n",
       "      <td>0.0</td>\n",
       "      <td>...</td>\n",
       "      <td>0</td>\n",
       "      <td>1</td>\n",
       "      <td>1</td>\n",
       "      <td>0</td>\n",
       "      <td>0</td>\n",
       "      <td>1</td>\n",
       "      <td>0</td>\n",
       "      <td>0</td>\n",
       "      <td>1</td>\n",
       "      <td>0</td>\n",
       "    </tr>\n",
       "    <tr>\n",
       "      <th>4</th>\n",
       "      <td>4</td>\n",
       "      <td>500000.0</td>\n",
       "      <td>2.0</td>\n",
       "      <td>25000.0</td>\n",
       "      <td>1</td>\n",
       "      <td>17</td>\n",
       "      <td>2.0</td>\n",
       "      <td>2.0</td>\n",
       "      <td>0.00</td>\n",
       "      <td>0.0</td>\n",
       "      <td>...</td>\n",
       "      <td>0</td>\n",
       "      <td>1</td>\n",
       "      <td>1</td>\n",
       "      <td>0</td>\n",
       "      <td>0</td>\n",
       "      <td>1</td>\n",
       "      <td>0</td>\n",
       "      <td>0</td>\n",
       "      <td>1</td>\n",
       "      <td>0</td>\n",
       "    </tr>\n",
       "    <tr>\n",
       "      <th>...</th>\n",
       "      <td>...</td>\n",
       "      <td>...</td>\n",
       "      <td>...</td>\n",
       "      <td>...</td>\n",
       "      <td>...</td>\n",
       "      <td>...</td>\n",
       "      <td>...</td>\n",
       "      <td>...</td>\n",
       "      <td>...</td>\n",
       "      <td>...</td>\n",
       "      <td>...</td>\n",
       "      <td>...</td>\n",
       "      <td>...</td>\n",
       "      <td>...</td>\n",
       "      <td>...</td>\n",
       "      <td>...</td>\n",
       "      <td>...</td>\n",
       "      <td>...</td>\n",
       "      <td>...</td>\n",
       "      <td>...</td>\n",
       "      <td>...</td>\n",
       "    </tr>\n",
       "    <tr>\n",
       "      <th>86541</th>\n",
       "      <td>87015</td>\n",
       "      <td>1000000.0</td>\n",
       "      <td>5.0</td>\n",
       "      <td>14500.0</td>\n",
       "      <td>0</td>\n",
       "      <td>9</td>\n",
       "      <td>5.0</td>\n",
       "      <td>0.0</td>\n",
       "      <td>0.00</td>\n",
       "      <td>0.0</td>\n",
       "      <td>...</td>\n",
       "      <td>0</td>\n",
       "      <td>1</td>\n",
       "      <td>0</td>\n",
       "      <td>1</td>\n",
       "      <td>0</td>\n",
       "      <td>1</td>\n",
       "      <td>0</td>\n",
       "      <td>0</td>\n",
       "      <td>1</td>\n",
       "      <td>0</td>\n",
       "    </tr>\n",
       "    <tr>\n",
       "      <th>86542</th>\n",
       "      <td>87016</td>\n",
       "      <td>0.0</td>\n",
       "      <td>0.0</td>\n",
       "      <td>0.0</td>\n",
       "      <td>1</td>\n",
       "      <td>1</td>\n",
       "      <td>0.0</td>\n",
       "      <td>4.0</td>\n",
       "      <td>35.50</td>\n",
       "      <td>4800.0</td>\n",
       "      <td>...</td>\n",
       "      <td>0</td>\n",
       "      <td>1</td>\n",
       "      <td>0</td>\n",
       "      <td>1</td>\n",
       "      <td>1</td>\n",
       "      <td>0</td>\n",
       "      <td>0</td>\n",
       "      <td>0</td>\n",
       "      <td>1</td>\n",
       "      <td>0</td>\n",
       "    </tr>\n",
       "    <tr>\n",
       "      <th>86543</th>\n",
       "      <td>87017</td>\n",
       "      <td>0.0</td>\n",
       "      <td>0.0</td>\n",
       "      <td>0.0</td>\n",
       "      <td>1</td>\n",
       "      <td>8</td>\n",
       "      <td>0.0</td>\n",
       "      <td>4.0</td>\n",
       "      <td>0.00</td>\n",
       "      <td>0.0</td>\n",
       "      <td>...</td>\n",
       "      <td>0</td>\n",
       "      <td>1</td>\n",
       "      <td>0</td>\n",
       "      <td>1</td>\n",
       "      <td>0</td>\n",
       "      <td>1</td>\n",
       "      <td>0</td>\n",
       "      <td>0</td>\n",
       "      <td>1</td>\n",
       "      <td>0</td>\n",
       "    </tr>\n",
       "    <tr>\n",
       "      <th>86544</th>\n",
       "      <td>87018</td>\n",
       "      <td>800000.0</td>\n",
       "      <td>5.0</td>\n",
       "      <td>13660.0</td>\n",
       "      <td>1</td>\n",
       "      <td>18</td>\n",
       "      <td>5.0</td>\n",
       "      <td>5.0</td>\n",
       "      <td>0.00</td>\n",
       "      <td>0.0</td>\n",
       "      <td>...</td>\n",
       "      <td>0</td>\n",
       "      <td>1</td>\n",
       "      <td>0</td>\n",
       "      <td>1</td>\n",
       "      <td>0</td>\n",
       "      <td>1</td>\n",
       "      <td>0</td>\n",
       "      <td>0</td>\n",
       "      <td>1</td>\n",
       "      <td>0</td>\n",
       "    </tr>\n",
       "    <tr>\n",
       "      <th>86545</th>\n",
       "      <td>87019</td>\n",
       "      <td>0.0</td>\n",
       "      <td>0.0</td>\n",
       "      <td>0.0</td>\n",
       "      <td>1</td>\n",
       "      <td>12</td>\n",
       "      <td>0.0</td>\n",
       "      <td>4.0</td>\n",
       "      <td>13.99</td>\n",
       "      <td>3450.0</td>\n",
       "      <td>...</td>\n",
       "      <td>0</td>\n",
       "      <td>0</td>\n",
       "      <td>0</td>\n",
       "      <td>1</td>\n",
       "      <td>0</td>\n",
       "      <td>1</td>\n",
       "      <td>0</td>\n",
       "      <td>0</td>\n",
       "      <td>1</td>\n",
       "      <td>0</td>\n",
       "    </tr>\n",
       "  </tbody>\n",
       "</table>\n",
       "<p>86546 rows × 36 columns</p>\n",
       "</div>"
      ],
      "text/plain": [
       "       Unnamed: 0  Loan_Amount_Applied  Loan_Tenure_Applied  Existing_EMI  \\\n",
       "0               0             300000.0                  5.0           0.0   \n",
       "1               1             200000.0                  2.0           0.0   \n",
       "2               2             600000.0                  4.0           0.0   \n",
       "3               3            1000000.0                  5.0           0.0   \n",
       "4               4             500000.0                  2.0       25000.0   \n",
       "...           ...                  ...                  ...           ...   \n",
       "86541       87015            1000000.0                  5.0       14500.0   \n",
       "86542       87016                  0.0                  0.0           0.0   \n",
       "86543       87017                  0.0                  0.0           0.0   \n",
       "86544       87018             800000.0                  5.0       13660.0   \n",
       "86545       87019                  0.0                  0.0           0.0   \n",
       "\n",
       "       Mobile_Verified  Var5  Loan_Amount_Submitted  Loan_Tenure_Submitted  \\\n",
       "0                    0     0                    5.0                    0.0   \n",
       "1                    1    13                    2.0                    2.0   \n",
       "2                    1     0                    4.0                    4.0   \n",
       "3                    1    10                    5.0                    5.0   \n",
       "4                    1    17                    2.0                    2.0   \n",
       "...                ...   ...                    ...                    ...   \n",
       "86541                0     9                    5.0                    0.0   \n",
       "86542                1     1                    0.0                    4.0   \n",
       "86543                1     8                    0.0                    4.0   \n",
       "86544                1    18                    5.0                    5.0   \n",
       "86545                1    12                    0.0                    4.0   \n",
       "\n",
       "       Interest_Rate  Processing_Fee  ...  Var1_cat_II  Var1_cat_III  \\\n",
       "0               0.00             0.0  ...            0             1   \n",
       "1              13.25             0.0  ...            0             0   \n",
       "2               0.00             0.0  ...            0             1   \n",
       "3               0.00             0.0  ...            0             1   \n",
       "4               0.00             0.0  ...            0             1   \n",
       "...              ...             ...  ...          ...           ...   \n",
       "86541           0.00             0.0  ...            0             1   \n",
       "86542          35.50          4800.0  ...            0             1   \n",
       "86543           0.00             0.0  ...            0             1   \n",
       "86544           0.00             0.0  ...            0             1   \n",
       "86545          13.99          3450.0  ...            0             0   \n",
       "\n",
       "       Var2_cat_I  Var2_cat_II  Var4_cat_I  Var4_cat_II  Var4_cat_III  \\\n",
       "0               0            1           0            0             1   \n",
       "1               0            1           0            1             0   \n",
       "2               1            0           0            0             1   \n",
       "3               1            0           0            1             0   \n",
       "4               1            0           0            1             0   \n",
       "...           ...          ...         ...          ...           ...   \n",
       "86541           0            1           0            1             0   \n",
       "86542           0            1           1            0             0   \n",
       "86543           0            1           0            1             0   \n",
       "86544           0            1           0            1             0   \n",
       "86545           0            1           0            1             0   \n",
       "\n",
       "       Source_cat_I  Source_cat_II  Source_cat_III  \n",
       "0                 0              1               0  \n",
       "1                 0              1               0  \n",
       "2                 0              1               0  \n",
       "3                 0              1               0  \n",
       "4                 0              1               0  \n",
       "...             ...            ...             ...  \n",
       "86541             0              1               0  \n",
       "86542             0              1               0  \n",
       "86543             0              1               0  \n",
       "86544             0              1               0  \n",
       "86545             0              1               0  \n",
       "\n",
       "[86546 rows x 36 columns]"
      ]
     },
     "execution_count": 2,
     "metadata": {},
     "output_type": "execute_result"
    }
   ],
   "source": [
    "data = pd.read_csv('Data/data_processed.csv')\n",
    "print(data.shape)\n",
    "data"
   ]
  },
  {
   "cell_type": "code",
   "execution_count": 3,
   "metadata": {},
   "outputs": [
    {
     "name": "stdout",
     "output_type": "stream",
     "text": [
      "<class 'pandas.core.frame.DataFrame'>\n",
      "RangeIndex: 86546 entries, 0 to 86545\n",
      "Data columns (total 35 columns):\n",
      " #   Column                 Non-Null Count  Dtype  \n",
      "---  ------                 --------------  -----  \n",
      " 0   Loan_Amount_Applied    86546 non-null  float64\n",
      " 1   Loan_Tenure_Applied    86546 non-null  float64\n",
      " 2   Existing_EMI           86546 non-null  float64\n",
      " 3   Mobile_Verified        86546 non-null  int64  \n",
      " 4   Var5                   86546 non-null  int64  \n",
      " 5   Loan_Amount_Submitted  86546 non-null  float64\n",
      " 6   Loan_Tenure_Submitted  86546 non-null  float64\n",
      " 7   Interest_Rate          86546 non-null  float64\n",
      " 8   Processing_Fee         86546 non-null  float64\n",
      " 9   EMI_Loan_Submitted     86546 non-null  float64\n",
      " 10  Filled_Form            86546 non-null  int64  \n",
      " 11  Disbursed              86546 non-null  int64  \n",
      " 12  Cty_cat_I              86546 non-null  int64  \n",
      " 13  Cty_cat_II             86546 non-null  int64  \n",
      " 14  Cty_cat_III            86546 non-null  int64  \n",
      " 15  Cty_cat_IV             86546 non-null  int64  \n",
      " 16  Cty_cat_V              86546 non-null  int64  \n",
      " 17  Age                    86546 non-null  int64  \n",
      " 18  Mntly_Incm_log         86546 non-null  float64\n",
      " 19  Employer_cat           86546 non-null  int64  \n",
      " 20  Male                   86546 non-null  int64  \n",
      " 21  Wb_brwsr               86546 non-null  int64  \n",
      " 22  Missing_LAA            86546 non-null  int64  \n",
      " 23  Missing_LTA            86546 non-null  int64  \n",
      " 24  Var1_cat_I             86546 non-null  int64  \n",
      " 25  Var1_cat_II            86546 non-null  int64  \n",
      " 26  Var1_cat_III           86546 non-null  int64  \n",
      " 27  Var2_cat_I             86546 non-null  int64  \n",
      " 28  Var2_cat_II            86546 non-null  int64  \n",
      " 29  Var4_cat_I             86546 non-null  int64  \n",
      " 30  Var4_cat_II            86546 non-null  int64  \n",
      " 31  Var4_cat_III           86546 non-null  int64  \n",
      " 32  Source_cat_I           86546 non-null  int64  \n",
      " 33  Source_cat_II          86546 non-null  int64  \n",
      " 34  Source_cat_III         86546 non-null  int64  \n",
      "dtypes: float64(9), int64(26)\n",
      "memory usage: 23.1 MB\n"
     ]
    }
   ],
   "source": [
    "del data['Unnamed: 0']\n",
    "data.info()"
   ]
  },
  {
   "cell_type": "markdown",
   "metadata": {},
   "source": [
    "# Train & test split"
   ]
  },
  {
   "cell_type": "markdown",
   "metadata": {},
   "source": [
    "Divides the sample into a test and training part. Due to the unbalanced classes, I use the 'stratify' attribute so that the distribution of Y for the two samples are similar. \n",
    "Proportion - Disbursed: 0 to Disbursed: 1 is 67/1"
   ]
  },
  {
   "cell_type": "code",
   "execution_count": 4,
   "metadata": {},
   "outputs": [
    {
     "name": "stdout",
     "output_type": "stream",
     "text": [
      "X.shape: (86546, 34) y.shape: (86546,)\n"
     ]
    }
   ],
   "source": [
    "y = data['Disbursed'].astype(\"category\")\n",
    "X = data.drop('Disbursed',axis=1)\n",
    "print(\"X.shape: {} y.shape: {}\".format(X.shape, y.shape))"
   ]
  },
  {
   "cell_type": "markdown",
   "metadata": {},
   "source": [
    "We will use the feature_names later in the zip function. It will be used to pair with the list. The list of columns will be compared and assigned to the list from BorutaPy, which will identify the appropriate columns. "
   ]
  },
  {
   "cell_type": "code",
   "execution_count": 5,
   "metadata": {},
   "outputs": [
    {
     "data": {
      "text/plain": [
       "array(['Loan_Amount_Applied', 'Loan_Tenure_Applied', 'Existing_EMI',\n",
       "       'Mobile_Verified', 'Var5', 'Loan_Amount_Submitted',\n",
       "       'Loan_Tenure_Submitted', 'Interest_Rate', 'Processing_Fee',\n",
       "       'EMI_Loan_Submitted', 'Filled_Form', 'Cty_cat_I', 'Cty_cat_II',\n",
       "       'Cty_cat_III', 'Cty_cat_IV', 'Cty_cat_V', 'Age', 'Mntly_Incm_log',\n",
       "       'Employer_cat', 'Male', 'Wb_brwsr', 'Missing_LAA', 'Missing_LTA',\n",
       "       'Var1_cat_I', 'Var1_cat_II', 'Var1_cat_III', 'Var2_cat_I',\n",
       "       'Var2_cat_II', 'Var4_cat_I', 'Var4_cat_II', 'Var4_cat_III',\n",
       "       'Source_cat_I', 'Source_cat_II', 'Source_cat_III'], dtype=object)"
      ]
     },
     "execution_count": 5,
     "metadata": {},
     "output_type": "execute_result"
    }
   ],
   "source": [
    "feature_names = np.array(X.columns)\n",
    "feature_names"
   ]
  },
  {
   "cell_type": "code",
   "execution_count": 6,
   "metadata": {},
   "outputs": [],
   "source": [
    "#data standardize using Standard Scaler to transform data columns values to certain ranges.\n",
    "from sklearn.preprocessing import StandardScaler\n",
    "scaler = StandardScaler()\n",
    "scaler.fit(X)\n",
    "X = scaler.transform(X)"
   ]
  },
  {
   "cell_type": "markdown",
   "metadata": {},
   "source": [
    "Divides the sample into a test and training part. Due to the unbalanced classes, I use the 'stratify' attribute so that the distribution of the expense variable for the two samples are similar."
   ]
  },
  {
   "cell_type": "code",
   "execution_count": 7,
   "metadata": {},
   "outputs": [],
   "source": [
    "X_train, X_test, y_train, y_test = train_test_split(X,y,stratify=data[\"Disbursed\"],\n",
    "                                                    test_size=0.2, random_state=45)"
   ]
  },
  {
   "cell_type": "code",
   "execution_count": 8,
   "metadata": {},
   "outputs": [
    {
     "name": "stdout",
     "output_type": "stream",
     "text": [
      "y_train.value_counts: \n",
      "0    68219\n",
      "1     1017\n",
      "Name: Disbursed, dtype: int64 \n",
      "y_test.value_counts: \n",
      "0    17056\n",
      "1      254\n",
      "Name: Disbursed, dtype: int64\n"
     ]
    }
   ],
   "source": [
    "print(\"y_train.value_counts: \\n{} \\ny_test.value_counts: \\n{}\".format(y_train.value_counts(), y_test.value_counts()))"
   ]
  },
  {
   "cell_type": "markdown",
   "metadata": {},
   "source": [
    "## Removing nonsignificant variables using BorutaPy"
   ]
  },
  {
   "cell_type": "markdown",
   "metadata": {},
   "source": [
    "Boruta is an all-relevant feature selection method. It tries to capture all the important, interesting features you might have in your dataset with respect to an outcome variable. Classifier will be trained on our dataset, such that we get importances for each of our features. Tree ensemble methods such as Random Forest can capture non-linear highly intricate relationships between our predictors."
   ]
  },
  {
   "cell_type": "code",
   "execution_count": 9,
   "metadata": {},
   "outputs": [],
   "source": [
    "rf = RandomForestClassifier(n_jobs=-1, class_weight={0: 1, 1: 10}, max_depth=6)"
   ]
  },
  {
   "cell_type": "code",
   "execution_count": 10,
   "metadata": {},
   "outputs": [],
   "source": [
    "from boruta import BorutaPy"
   ]
  },
  {
   "cell_type": "code",
   "execution_count": 11,
   "metadata": {},
   "outputs": [],
   "source": [
    "feat_selector = BorutaPy(rf, n_estimators='auto', verbose=2, random_state=48, max_iter=15)"
   ]
  },
  {
   "cell_type": "code",
   "execution_count": 12,
   "metadata": {
    "scrolled": true
   },
   "outputs": [
    {
     "name": "stdout",
     "output_type": "stream",
     "text": [
      "Iteration: \t1 / 15\n",
      "Confirmed: \t0\n",
      "Tentative: \t34\n",
      "Rejected: \t0\n",
      "Iteration: \t2 / 15\n",
      "Confirmed: \t0\n",
      "Tentative: \t34\n",
      "Rejected: \t0\n",
      "Iteration: \t3 / 15\n",
      "Confirmed: \t0\n",
      "Tentative: \t34\n",
      "Rejected: \t0\n",
      "Iteration: \t4 / 15\n",
      "Confirmed: \t0\n",
      "Tentative: \t34\n",
      "Rejected: \t0\n",
      "Iteration: \t5 / 15\n",
      "Confirmed: \t0\n",
      "Tentative: \t34\n",
      "Rejected: \t0\n",
      "Iteration: \t6 / 15\n",
      "Confirmed: \t0\n",
      "Tentative: \t34\n",
      "Rejected: \t0\n",
      "Iteration: \t7 / 15\n",
      "Confirmed: \t0\n",
      "Tentative: \t34\n",
      "Rejected: \t0\n",
      "Iteration: \t8 / 15\n",
      "Confirmed: \t11\n",
      "Tentative: \t6\n",
      "Rejected: \t17\n",
      "Iteration: \t9 / 15\n",
      "Confirmed: \t11\n",
      "Tentative: \t6\n",
      "Rejected: \t17\n",
      "Iteration: \t10 / 15\n",
      "Confirmed: \t11\n",
      "Tentative: \t6\n",
      "Rejected: \t17\n",
      "Iteration: \t11 / 15\n",
      "Confirmed: \t11\n",
      "Tentative: \t6\n",
      "Rejected: \t17\n",
      "Iteration: \t12 / 15\n",
      "Confirmed: \t11\n",
      "Tentative: \t3\n",
      "Rejected: \t20\n",
      "Iteration: \t13 / 15\n",
      "Confirmed: \t11\n",
      "Tentative: \t3\n",
      "Rejected: \t20\n",
      "Iteration: \t14 / 15\n",
      "Confirmed: \t11\n",
      "Tentative: \t3\n",
      "Rejected: \t20\n",
      "\n",
      "\n",
      "BorutaPy finished running.\n",
      "\n",
      "Iteration: \t15 / 15\n",
      "Confirmed: \t11\n",
      "Tentative: \t1\n",
      "Rejected: \t20\n"
     ]
    },
    {
     "data": {
      "text/plain": [
       "BorutaPy(estimator=RandomForestClassifier(class_weight={0: 1, 1: 10},\n",
       "                                          max_depth=6, n_estimators=88,\n",
       "                                          n_jobs=-1,\n",
       "                                          random_state=RandomState(MT19937) at 0x25B920DA440),\n",
       "         max_iter=15, n_estimators='auto',\n",
       "         random_state=RandomState(MT19937) at 0x25B920DA440, verbose=2)"
      ]
     },
     "execution_count": 12,
     "metadata": {},
     "output_type": "execute_result"
    }
   ],
   "source": [
    "feat_selector.fit(X_train, y_train)"
   ]
  },
  {
   "cell_type": "code",
   "execution_count": 13,
   "metadata": {},
   "outputs": [
    {
     "name": "stdout",
     "output_type": "stream",
     "text": [
      "Feature: Loan_Amount_Applied       Rank: 1   , Keep: True\n",
      "Feature: Loan_Tenure_Applied       Rank: 3   , Keep: False\n",
      "Feature: Existing_EMI              Rank: 1   , Keep: True\n",
      "Feature: Mobile_Verified           Rank: 8   , Keep: False\n",
      "Feature: Var5                      Rank: 1   , Keep: True\n",
      "Feature: Loan_Amount_Submitted     Rank: 4   , Keep: False\n",
      "Feature: Loan_Tenure_Submitted     Rank: 1   , Keep: True\n",
      "Feature: Interest_Rate             Rank: 1   , Keep: True\n",
      "Feature: Processing_Fee            Rank: 2   , Keep: False\n",
      "Feature: EMI_Loan_Submitted        Rank: 1   , Keep: True\n",
      "Feature: Filled_Form               Rank: 8   , Keep: False\n",
      "Feature: Cty_cat_I                 Rank: 20  , Keep: False\n",
      "Feature: Cty_cat_II                Rank: 16  , Keep: False\n",
      "Feature: Cty_cat_III               Rank: 22  , Keep: False\n",
      "Feature: Cty_cat_IV                Rank: 21  , Keep: False\n",
      "Feature: Cty_cat_V                 Rank: 14  , Keep: False\n",
      "Feature: Age                       Rank: 1   , Keep: True\n",
      "Feature: Mntly_Incm_log            Rank: 1   , Keep: True\n",
      "Feature: Employer_cat              Rank: 17  , Keep: False\n",
      "Feature: Male                      Rank: 5   , Keep: False\n",
      "Feature: Wb_brwsr                  Rank: 16  , Keep: False\n",
      "Feature: Missing_LAA               Rank: 11  , Keep: False\n",
      "Feature: Missing_LTA               Rank: 10  , Keep: False\n",
      "Feature: Var1_cat_I                Rank: 1   , Keep: True\n",
      "Feature: Var1_cat_II               Rank: 12  , Keep: False\n",
      "Feature: Var1_cat_III              Rank: 1   , Keep: True\n",
      "Feature: Var2_cat_I                Rank: 18  , Keep: False\n",
      "Feature: Var2_cat_II               Rank: 19  , Keep: False\n",
      "Feature: Var4_cat_I                Rank: 3   , Keep: False\n",
      "Feature: Var4_cat_II               Rank: 9   , Keep: False\n",
      "Feature: Var4_cat_III              Rank: 6   , Keep: False\n",
      "Feature: Source_cat_I              Rank: 23  , Keep: False\n",
      "Feature: Source_cat_II             Rank: 1   , Keep: True\n",
      "Feature: Source_cat_III            Rank: 14  , Keep: False\n"
     ]
    }
   ],
   "source": [
    "X_filtered = feat_selector.transform(X_train)\n",
    "feature_ranks = list(zip(feature_names, feat_selector.ranking_, feat_selector.support_))\n",
    "\n",
    "for feat in feature_ranks:\n",
    "    print('Feature: {:<25} Rank: {:<4}, Keep: {}'.format(feat[0], feat[1], feat[2]))"
   ]
  },
  {
   "cell_type": "code",
   "execution_count": 14,
   "metadata": {},
   "outputs": [
    {
     "data": {
      "text/plain": [
       "(69236, 11)"
      ]
     },
     "execution_count": 14,
     "metadata": {},
     "output_type": "execute_result"
    }
   ],
   "source": [
    "X_filtered.shape"
   ]
  },
  {
   "cell_type": "markdown",
   "metadata": {},
   "source": [
    "We use DecisionTreeClassifier to evaluate the importance of the features (feature_importances_) in a importance classification task and compare it to the RandomForestClassifier results."
   ]
  },
  {
   "cell_type": "code",
   "execution_count": 15,
   "metadata": {
    "scrolled": true
   },
   "outputs": [
    {
     "data": {
      "text/plain": [
       "0.9698440207972271"
      ]
     },
     "execution_count": 15,
     "metadata": {},
     "output_type": "execute_result"
    }
   ],
   "source": [
    "dtc = DecisionTreeClassifier()\n",
    "dtc.fit(X_train, y_train)\n",
    "dtc.feature_importances_[dtc.feature_importances_>0.017]\n",
    "accuracy_score(y_test, dtc.predict(X_test))"
   ]
  },
  {
   "cell_type": "code",
   "execution_count": 16,
   "metadata": {
    "scrolled": false
   },
   "outputs": [
    {
     "data": {
      "image/png": "[encoded data removed]",
      "text/plain": [
       "<Figure size 1080x360 with 1 Axes>"
      ]
     },
     "metadata": {
      "needs_background": "light"
     },
     "output_type": "display_data"
    }
   ],
   "source": [
    "plt.figure(figsize=(15,5))\n",
    "plt.bar(feature_names, dtc.feature_importances_)\n",
    "plt.xticks(rotation=90)\n",
    "plt.show()"
   ]
  },
  {
   "cell_type": "markdown",
   "metadata": {},
   "source": [
    "As we can see, tree collection methods such as Random Forest and Decision Tree Classifier yield similar results on validity. I decide to stick to the columns previously selected with BorutaPy (X_filtered)."
   ]
  },
  {
   "cell_type": "markdown",
   "metadata": {},
   "source": [
    "#### Below is a definition of a function that will draw a confusion matrix in a simple form. "
   ]
  },
  {
   "cell_type": "code",
   "execution_count": 17,
   "metadata": {},
   "outputs": [],
   "source": [
    "def print_conf(a):\n",
    "    a_list=a.tolist()\n",
    "    a_list[0].insert(0,'Real 0')\n",
    "    a_list[1].insert(0,'Real 1')\n",
    "    print (tabulate (a_list,headers=['Real/Pred','Pred 0', 'Pred 1']))"
   ]
  },
  {
   "cell_type": "markdown",
   "metadata": {},
   "source": [
    "## Decision Tree, Random Forest, Logistic Regression"
   ]
  },
  {
   "cell_type": "code",
   "execution_count": 18,
   "metadata": {},
   "outputs": [
    {
     "name": "stdout",
     "output_type": "stream",
     "text": [
      "Real/Pred      Pred 0    Pred 1\n",
      "-----------  --------  --------\n",
      "Real 0          67689       530\n",
      "Real 1            161       856\n",
      "F1: 0.7124427798585102\n",
      "AUC:  0.9963226261745983\n"
     ]
    }
   ],
   "source": [
    "model_1 = DecisionTreeClassifier(class_weight={0: 2, 1: 1}, min_samples_leaf=2)\n",
    "model_1.fit(X_filtered, y_train)\n",
    "y_pred = model_1.predict_proba(X_filtered)[:,1]\n",
    "predictions = np.where(y_pred>0.3,1,0)\n",
    "print_conf(confusion_matrix(y_train, predictions))\n",
    "print(\"F1:\",f1_score(y_train, predictions))\n",
    "print( \"AUC: \", roc_auc_score(y_score=y_pred,y_true=y_train))"
   ]
  },
  {
   "cell_type": "code",
   "execution_count": 19,
   "metadata": {},
   "outputs": [
    {
     "name": "stdout",
     "output_type": "stream",
     "text": [
      "Real/Pred      Pred 0    Pred 1\n",
      "-----------  --------  --------\n",
      "Real 0          68171        48\n",
      "Real 1             38       979\n",
      "F1: 0.9579256360078278\n",
      "AUC:  0.9998228059054937\n"
     ]
    }
   ],
   "source": [
    "model_2 = RandomForestClassifier(n_estimators=100,class_weight={0: 1, 1: 2}, min_samples_leaf=2)\n",
    "model_2.fit(X_filtered, y_train)\n",
    "y_pred = model_2.predict_proba(X_filtered)[:,1]\n",
    "predictions = np.where(y_pred>0.3,1,0)\n",
    "print_conf(confusion_matrix(y_train, predictions))\n",
    "print(\"F1:\",f1_score(y_train, predictions))\n",
    "print( \"AUC: \", roc_auc_score(y_score=y_pred,y_true=y_train))"
   ]
  },
  {
   "cell_type": "code",
   "execution_count": 20,
   "metadata": {},
   "outputs": [
    {
     "name": "stdout",
     "output_type": "stream",
     "text": [
      "Real/Pred      Pred 0    Pred 1\n",
      "-----------  --------  --------\n",
      "Real 0          62526      5693\n",
      "Real 1            627       390\n",
      "F1: 0.10985915492957747\n",
      "AUC:  0.8146317495639117\n"
     ]
    }
   ],
   "source": [
    "model_3 = LogisticRegression(C=1, class_weight={0: 1, 1: 10}, penalty='l2', solver='newton-cg', max_iter=300,\n",
    "                           n_jobs=12)\n",
    "model_3.fit(X_filtered, y_train)\n",
    "y_pred = model_3.predict_proba(X_filtered)[:,1]\n",
    "predictions = np.where(y_pred>0.3,1,0)\n",
    "print_conf(confusion_matrix(y_train, predictions))\n",
    "print(\"F1:\",f1_score(y_train, predictions))\n",
    "print( \"AUC: \", roc_auc_score(y_score=y_pred,y_true=y_train))"
   ]
  },
  {
   "cell_type": "markdown",
   "metadata": {},
   "source": [
    "### Parameters for the above models were adjusted by testing. \n",
    "### Below we will apply grid searching to find the best parameters."
   ]
  },
  {
   "cell_type": "markdown",
   "metadata": {},
   "source": [
    "##### DecisionTreeClassifier"
   ]
  },
  {
   "cell_type": "code",
   "execution_count": 21,
   "metadata": {},
   "outputs": [
    {
     "name": "stdout",
     "output_type": "stream",
     "text": [
      "Accuracy rate of DecisionTreeClassifier: 0.963092 using {'ccp_alpha': 0.0, 'class_weight': 'balanced', 'criterion': 'entropy', 'min_samples_leaf': 2, 'splitter': 'best'}\n"
     ]
    }
   ],
   "source": [
    "from sklearn.model_selection import RepeatedStratifiedKFold\n",
    "from sklearn.model_selection import GridSearchCV\n",
    "# grid searching key hyperparametres for logistic regression\n",
    "\n",
    "# define models and parameters\n",
    "dt_model = DecisionTreeClassifier()\n",
    "criterion = [\"gini\", \"entropy\"]\n",
    "splitter = [\"best\", \"random\"]\n",
    "class_weight = [\"{0: 2, 1: 1}\",\"{0: 1, 1: 2}\",\"balanced\"]\n",
    "min_samples_leaf = [2,3,4,5]\n",
    "ccp_alpha = [0.0, 0.01, 0.1]\n",
    "# define grid search\n",
    "grid = dict(criterion=criterion,splitter=splitter,class_weight=class_weight,min_samples_leaf=min_samples_leaf,ccp_alpha=ccp_alpha)\n",
    "cv = RepeatedStratifiedKFold(n_splits=10, n_repeats=3, random_state=1)\n",
    "grid_search = GridSearchCV(estimator=dt_model, param_grid=grid, n_jobs=-1, cv=cv, scoring='accuracy',error_score=0)\n",
    "grid_result = grid_search.fit(X_filtered, y_train)\n",
    "# summarize results\n",
    "print(\"Accuracy rate of DecisionTreeClassifier: %f using %s\" % (grid_result.best_score_, grid_result.best_params_))"
   ]
  },
  {
   "cell_type": "code",
   "execution_count": 22,
   "metadata": {},
   "outputs": [
    {
     "name": "stdout",
     "output_type": "stream",
     "text": [
      "Real/Pred      Pred 0    Pred 1\n",
      "-----------  --------  --------\n",
      "Real 0          67577       642\n",
      "Real 1              0      1017\n",
      "F1: 0.7600896860986547\n",
      "AUC:  0.99790203691123\n"
     ]
    }
   ],
   "source": [
    "model_1 = DecisionTreeClassifier(ccp_alpha=0.0, class_weight='balanced', criterion='entropy', \n",
    "                                 min_samples_leaf=2, splitter='best')\n",
    "model_1.fit(X_filtered, y_train)\n",
    "y_pred = model_1.predict_proba(X_filtered)[:,1]\n",
    "predictions = np.where(y_pred>0.3,1,0)\n",
    "print_conf(confusion_matrix(y_train, predictions))\n",
    "print(\"F1:\",f1_score(y_train, predictions))\n",
    "print( \"AUC: \", roc_auc_score(y_score=y_pred,y_true=y_train))"
   ]
  },
  {
   "cell_type": "markdown",
   "metadata": {},
   "source": [
    "##### RandomForestClassifier"
   ]
  },
  {
   "cell_type": "code",
   "execution_count": 23,
   "metadata": {
    "scrolled": true
   },
   "outputs": [
    {
     "name": "stdout",
     "output_type": "stream",
     "text": [
      "Accuracy rate of RandomForestClassifier: 0.984608 using {'class_weight': {0: 1, 1: 2}, 'n_estimators': 200}\n"
     ]
    }
   ],
   "source": [
    "# define models and parameters\n",
    "rf_model = RandomForestClassifier()\n",
    "n_estimators = [50, 200]\n",
    "class_weight = [ \"balanced\", {0: 1, 1: 2}]\n",
    "# define grid search\n",
    "grid = dict(n_estimators=n_estimators,class_weight=class_weight)\n",
    "cv = RepeatedStratifiedKFold(n_splits=10, n_repeats=3, random_state=1)\n",
    "grid_search = GridSearchCV(estimator=rf_model, param_grid=grid, n_jobs=-1, cv=cv, scoring='accuracy',error_score=0)\n",
    "grid_result = grid_search.fit(X_filtered, y_train)\n",
    "# summarize results\n",
    "print(\"Accuracy rate of RandomForestClassifier: %f using %s\" % (grid_result.best_score_, grid_result.best_params_))"
   ]
  },
  {
   "cell_type": "code",
   "execution_count": 24,
   "metadata": {},
   "outputs": [
    {
     "name": "stdout",
     "output_type": "stream",
     "text": [
      "Real/Pred      Pred 0    Pred 1\n",
      "-----------  --------  --------\n",
      "Real 0          68172        47\n",
      "Real 1              1      1016\n",
      "F1: 0.976923076923077\n",
      "AUC:  0.9999849593657122\n"
     ]
    }
   ],
   "source": [
    "model_2 = RandomForestClassifier(n_estimators=200, class_weight={0: 1, 1: 2}, criterion = \"gini\")\n",
    "model_2.fit(X_filtered, y_train)\n",
    "y_pred = model_2.predict_proba(X_filtered)[:,1]\n",
    "predictions = np.where(y_pred>0.3,1,0)\n",
    "print_conf(confusion_matrix(y_train, predictions))\n",
    "print(\"F1:\",f1_score(y_train, predictions))\n",
    "print( \"AUC: \", roc_auc_score(y_score=y_pred,y_true=y_train))"
   ]
  },
  {
   "cell_type": "markdown",
   "metadata": {},
   "source": [
    "##### LogisticRegression"
   ]
  },
  {
   "cell_type": "code",
   "execution_count": 25,
   "metadata": {},
   "outputs": [
    {
     "name": "stdout",
     "output_type": "stream",
     "text": [
      "Accuracy rate of Logistic Regression: 0.985311 using {'C': 0.0001, 'class_weight': '{0: 1, 1: 10}', 'penalty': 'l2', 'solver': 'lbfgs'}\n"
     ]
    }
   ],
   "source": [
    "# define models and parameters\n",
    "lr_model = LogisticRegression(max_iter=300)\n",
    "solvers = ['liblinear', 'lbfgs','newton-cg']\n",
    "penalty=['l2', 'l1']\n",
    "class_weight = [\"{0: 1, 1: 10}\",\"{0: 2, 1: 1}\",\"{0: 1, 1: 2}\",\"balanced\"]\n",
    "c_values = [0.01, 0.001, 0.0001]\n",
    "# define grid search\n",
    "grid = dict(solver=solvers,penalty=penalty,C=c_values,class_weight=class_weight)\n",
    "cv = RepeatedStratifiedKFold(n_splits=10, n_repeats=3, random_state=1)\n",
    "grid_search = GridSearchCV(estimator=lr_model, param_grid=grid, n_jobs=-1, cv=cv, scoring='accuracy',error_score=0)\n",
    "grid_result = grid_search.fit(X_filtered, y_train)\n",
    "# summarize results\n",
    "print(\"Accuracy rate of Logistic Regression: %f using %s\" % (grid_result.best_score_, grid_result.best_params_))"
   ]
  },
  {
   "cell_type": "code",
   "execution_count": 26,
   "metadata": {},
   "outputs": [
    {
     "name": "stdout",
     "output_type": "stream",
     "text": [
      "Real/Pred      Pred 0    Pred 1\n",
      "-----------  --------  --------\n",
      "Real 0          65399      2820\n",
      "Real 1            783       234\n",
      "F1: 0.11495946941783344\n",
      "AUC:  0.8117596442355965\n"
     ]
    }
   ],
   "source": [
    "model_3 = LogisticRegression(C=0.0001, class_weight={0: 1, 1: 10}, penalty='l2', solver='lbfgs', max_iter=300,\n",
    "                           n_jobs=12)\n",
    "model_3.fit(X_filtered, y_train)\n",
    "y_pred = model_3.predict_proba(X_filtered)[:,1]\n",
    "predictions = np.where(y_pred>0.3,1,0)\n",
    "print_conf(confusion_matrix(y_train, predictions))\n",
    "print(\"F1:\",f1_score(y_train, predictions))\n",
    "print( \"AUC: \", roc_auc_score(y_score=y_pred,y_true=y_train))"
   ]
  },
  {
   "cell_type": "markdown",
   "metadata": {},
   "source": [
    "#### XGBClassifier"
   ]
  },
  {
   "cell_type": "code",
   "execution_count": 27,
   "metadata": {},
   "outputs": [
    {
     "name": "stdout",
     "output_type": "stream",
     "text": [
      "[23:43:25] WARNING: C:/Users/Administrator/workspace/xgboost-win64_release_1.3.0/src/learner.cc:1061: Starting in XGBoost 1.3.0, the default evaluation metric used with the objective 'binary:logistic' was changed from 'error' to 'logloss'. Explicitly set eval_metric if you'd like to restore the old behavior.\n",
      "Accuracy rate of Logistic Regression: 0.985075 using {'num_parallel_tree': 10}\n"
     ]
    }
   ],
   "source": [
    "# define models and parameters\n",
    "xgb_model = XGBClassifier(use_label_encoder=False)\n",
    "num_parallel_tree = [10, 40]\n",
    "# define grid search\n",
    "grid = dict(num_parallel_tree=num_parallel_tree)\n",
    "cv = RepeatedStratifiedKFold(n_splits=10, n_repeats=3, random_state=1)\n",
    "grid_search = GridSearchCV(estimator=xgb_model, param_grid=grid, n_jobs=-1, cv=cv, scoring='accuracy',error_score=0)\n",
    "grid_result = grid_search.fit(X_filtered, y_train)\n",
    "# summarize results\n",
    "print(\"Accuracy rate of Logistic Regression: %f using %s\" % (grid_result.best_score_, grid_result.best_params_))"
   ]
  },
  {
   "cell_type": "code",
   "execution_count": 28,
   "metadata": {},
   "outputs": [
    {
     "name": "stdout",
     "output_type": "stream",
     "text": [
      "[23:43:35] WARNING: C:/Users/Administrator/workspace/xgboost-win64_release_1.3.0/src/learner.cc:1061: Starting in XGBoost 1.3.0, the default evaluation metric used with the objective 'binary:logistic' was changed from 'error' to 'logloss'. Explicitly set eval_metric if you'd like to restore the old behavior.\n",
      "Real/Pred      Pred 0    Pred 1\n",
      "-----------  --------  --------\n",
      "Real 0          68204        15\n",
      "Real 1            773       244\n",
      "F1: 0.3824451410658307\n",
      "AUC:  0.9616530056340183\n"
     ]
    }
   ],
   "source": [
    "model_4 = XGBClassifier(use_label_encoder=False, n_estimators=100, num_parallel_tree=40)                                                          \n",
    "model_4.fit(X_filtered, y_train)\n",
    "y_pred = model_4.predict_proba(X_filtered)[:,1]\n",
    "predictions = np.where(y_pred>0.3,1,0)\n",
    "print_conf(confusion_matrix(y_train, predictions))\n",
    "print(\"F1:\",f1_score(y_train, predictions))\n",
    "print( \"AUC: \", roc_auc_score(y_score=y_pred,y_true=y_train))"
   ]
  },
  {
   "cell_type": "markdown",
   "metadata": {},
   "source": [
    "#### Final establishing the best cut off threshold in terms of F1 score while using best params in a for loop. The best model will be one with the best F1 score."
   ]
  },
  {
   "cell_type": "code",
   "execution_count": 29,
   "metadata": {},
   "outputs": [
    {
     "name": "stdout",
     "output_type": "stream",
     "text": [
      "[0.7598, 0.7598, 0.7598, 0.7598, 0.7598, 0.7598, 0.7598, 0.7598, 0.7598, 0.7622]\n",
      "DecisionTreeClassifier Best F1: 0.7622 threshold: 0.9\n",
      "[0.0971, 0.8532, 0.9718, 0.9769, 0.9778, 0.9783, 0.9175, 0.1839, 0.0059, 0.0]\n",
      "RandomForestClassifier Best F1: 0.9783 threshold: 0.5\n",
      "[0.029, 0.0597, 0.0931, 0.115, 0.0788, 0.0318, 0.0183, 0.0057, 0.0039, 0.002]\n",
      "LogisticRegression Best F1: 0.115 threshold: 0.30000000000000004\n",
      "[23:44:23] WARNING: C:/Users/Administrator/workspace/xgboost-win64_release_1.3.0/src/learner.cc:1061: Starting in XGBoost 1.3.0, the default evaluation metric used with the objective 'binary:logistic' was changed from 'error' to 'logloss'. Explicitly set eval_metric if you'd like to restore the old behavior.\n",
      "[0.029, 0.4768, 0.5033, 0.3824, 0.2596, 0.1676, 0.0973, 0.0517, 0.0098, 0.0]\n",
      "XGBClassifier Best F1: 0.5033 threshold: 0.2\n"
     ]
    }
   ],
   "source": [
    "models_Params_Tresholds = [DecisionTreeClassifier(ccp_alpha=0.0, class_weight='balanced', criterion='entropy', \n",
    "                                                  min_samples_leaf=2, splitter='best'),\n",
    "                           RandomForestClassifier(n_estimators=200, class_weight={0: 1, 1: 2},criterion = \"gini\"),\n",
    "                           LogisticRegression(C=0.0001, class_weight={0: 1, 1: 10}, penalty='l2', solver='lbfgs',\n",
    "                                              max_iter=300,n_jobs=12),\n",
    "                           XGBClassifier(use_label_encoder=False, n_estimators=100, num_parallel_tree=40)]\n",
    "m = ['DecisionTreeClassifier','RandomForestClassifier','LogisticRegression', 'XGBClassifier']\n",
    "i = 0\n",
    "for model in models_Params_Tresholds:    \n",
    "    model.fit(X_filtered, y_train)\n",
    "    y_pred = model.predict_proba(X_filtered)[:,1]\n",
    "    r = []\n",
    "    for x in np.arange(0,1,0.1):\n",
    "        z = np.where(y_pred > x,1,0)\n",
    "        f = f1_score(y_train, z)\n",
    "        r.append(round(f,4))\n",
    "    print(r)    \n",
    "    print(m[i], \"Best F1:\", np.max(r),\"threshold:\" ,np.argmax(r)*0.1)\n",
    "    i+=1"
   ]
  },
  {
   "cell_type": "code",
   "execution_count": 30,
   "metadata": {
    "scrolled": false
   },
   "outputs": [
    {
     "name": "stdout",
     "output_type": "stream",
     "text": [
      "DecisionTreeClassifier\n",
      "Real/Pred      Pred 0    Pred 1\n",
      "-----------  --------  --------\n",
      "Real 0          67594       625\n",
      "Real 1              1      1016\n",
      "F1: 0.7644845748683221\n",
      "AUC:  0.9979193044530381\n"
     ]
    }
   ],
   "source": [
    "print('DecisionTreeClassifier')\n",
    "threshold = 0.9\n",
    "\n",
    "model_1 = DecisionTreeClassifier(ccp_alpha=0.0, class_weight='balanced', criterion='entropy', \n",
    "                                                  min_samples_leaf=2, splitter='best')\n",
    "model_1.fit(X_filtered, y_train)\n",
    "y_pred = model_1.predict_proba(X_filtered)[:,1]\n",
    "predictions = np.where(y_pred>threshold,1,0)\n",
    "print_conf(confusion_matrix(y_train, predictions))\n",
    "print(\"F1:\",f1_score(y_train, predictions))\n",
    "print( \"AUC: \", roc_auc_score(y_score=y_pred,y_true=y_train))"
   ]
  },
  {
   "cell_type": "code",
   "execution_count": 31,
   "metadata": {},
   "outputs": [
    {
     "name": "stdout",
     "output_type": "stream",
     "text": [
      "RandomForestClassifier\n",
      "Real/Pred      Pred 0    Pred 1\n",
      "-----------  --------  --------\n",
      "Real 0          68178        41\n",
      "Real 1              4      1013\n",
      "F1: 0.9782713664896185\n",
      "AUC:  0.9999845557837668\n"
     ]
    }
   ],
   "source": [
    "print('RandomForestClassifier')\n",
    "threshold = 0.4\n",
    "\n",
    "model_2 = RandomForestClassifier(n_estimators=200, class_weight={0: 1, 1: 2},criterion = \"gini\")\n",
    "model_2.fit(X_filtered, y_train)\n",
    "y_pred = model_2.predict_proba(X_filtered)[:,1]\n",
    "predictions = np.where(y_pred>threshold,1,0)\n",
    "print_conf(confusion_matrix(y_train, predictions))\n",
    "print(\"F1:\",f1_score(y_train, predictions))\n",
    "print( \"AUC: \", roc_auc_score(y_score=y_pred,y_true=y_train))"
   ]
  },
  {
   "cell_type": "code",
   "execution_count": 32,
   "metadata": {},
   "outputs": [
    {
     "name": "stdout",
     "output_type": "stream",
     "text": [
      "LogisticRegression\n",
      "Real/Pred      Pred 0    Pred 1\n",
      "-----------  --------  --------\n",
      "Real 0          65399      2820\n",
      "Real 1            783       234\n",
      "F1: 0.11495946941783344\n",
      "AUC:  0.8117596442355965\n"
     ]
    }
   ],
   "source": [
    "print('LogisticRegression')\n",
    "threshold = 0.3\n",
    "\n",
    "model_3 = LogisticRegression(C=0.0001, class_weight={0: 1, 1: 10}, penalty='l2', solver='lbfgs',\n",
    "                                              max_iter=300,n_jobs=12)\n",
    "model_3.fit(X_filtered, y_train)\n",
    "y_pred = model_3.predict_proba(X_filtered)[:,1]\n",
    "predictions = np.where(y_pred>threshold,1,0)\n",
    "print_conf(confusion_matrix(y_train, predictions))\n",
    "print(\"F1:\",f1_score(y_train, predictions))\n",
    "print( \"AUC: \", roc_auc_score(y_score=y_pred,y_true=y_train))"
   ]
  },
  {
   "cell_type": "code",
   "execution_count": 33,
   "metadata": {},
   "outputs": [
    {
     "name": "stdout",
     "output_type": "stream",
     "text": [
      "XGBClassifier\n",
      "[23:45:11] WARNING: C:/Users/Administrator/workspace/xgboost-win64_release_1.3.0/src/learner.cc:1061: Starting in XGBoost 1.3.0, the default evaluation metric used with the objective 'binary:logistic' was changed from 'error' to 'logloss'. Explicitly set eval_metric if you'd like to restore the old behavior.\n",
      "Real/Pred      Pred 0    Pred 1\n",
      "-----------  --------  --------\n",
      "Real 0          68112       107\n",
      "Real 1            639       378\n",
      "F1: 0.5033288948069241\n",
      "AUC:  0.9616530056340183\n"
     ]
    }
   ],
   "source": [
    "print('XGBClassifier')\n",
    "threshold = 0.2\n",
    "\n",
    "model_4 = XGBClassifier(use_label_encoder=False, n_estimators=100, num_parallel_tree=40)\n",
    "model_4.fit(X_filtered, y_train)\n",
    "y_pred = model_4.predict_proba(X_filtered)[:,1]\n",
    "predictions = np.where(y_pred>threshold,1,0)\n",
    "print_conf(confusion_matrix(y_train, predictions))\n",
    "print(\"F1:\",f1_score(y_train, predictions))\n",
    "print( \"AUC: \", roc_auc_score(y_score=y_pred,y_true=y_train))"
   ]
  },
  {
   "cell_type": "markdown",
   "metadata": {},
   "source": [
    "# Test set"
   ]
  },
  {
   "cell_type": "code",
   "execution_count": 34,
   "metadata": {},
   "outputs": [
    {
     "name": "stdout",
     "output_type": "stream",
     "text": [
      "RandomForestClassifier\n",
      "Real/Pred      Pred 0    Pred 1\n",
      "-----------  --------  --------\n",
      "Real 0          17054         2\n",
      "Real 1              1       253\n",
      "F1: 0.994106090373281\n",
      "AUC:  0.9999989612725473\n"
     ]
    }
   ],
   "source": [
    "print('RandomForestClassifier')\n",
    "threshold = 0.4\n",
    "\n",
    "model_2 = RandomForestClassifier(n_estimators=200, class_weight={0: 1, 1: 2},criterion = \"gini\")\n",
    "model_2.fit(X_test, y_test)\n",
    "y_pred = model_2.predict_proba(X_test)[:,1]\n",
    "predictions = np.where(y_pred>threshold,1,0)\n",
    "print_conf(confusion_matrix(y_test, predictions))\n",
    "print(\"F1:\",f1_score(y_test, predictions))\n",
    "print( \"AUC: \", roc_auc_score(y_score=y_pred,y_true=y_test))"
   ]
  },
  {
   "cell_type": "markdown",
   "metadata": {},
   "source": [
    "# Summary"
   ]
  },
  {
   "cell_type": "markdown",
   "metadata": {},
   "source": [
    "As we can see, RandomForestClassifier gives us the best F1 score and the best true positive coefficient with an acceptable error rate. The data was prepared using tree methods. The model was well received with a large number of categorical values dataset. "
   ]
  },
  {
   "cell_type": "markdown",
   "metadata": {},
   "source": [
    "RandomForestClassifier(n_estimators=200, class_weight={0: 1, 1: 2},criterion = \"gini\")\n",
    "\n",
    "treshold = 0.4\n",
    "\n",
    "F1: 0.996\n",
    "\n",
    "AUC:  0.999"
   ]
  }
 ],
 "metadata": {
  "kernelspec": {
   "display_name": "Python 3",
   "language": "python",
   "name": "python3"
  },
  "language_info": {
   "codemirror_mode": {
    "name": "ipython",
    "version": 3
   },
   "file_extension": ".py",
   "mimetype": "text/x-python",
   "name": "python",
   "nbconvert_exporter": "python",
   "pygments_lexer": "ipython3",
   "version": "3.8.5"
  }
 },
 "nbformat": 4,
 "nbformat_minor": 4
}

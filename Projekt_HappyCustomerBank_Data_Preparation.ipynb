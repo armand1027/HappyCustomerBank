{
 "cells": [
  {
   "cell_type": "markdown",
   "metadata": {
    "scrolled": false
   },
   "source": [
    "## About Company\n",
    "\n",
    "Happy Customer Bank is a mid-sized private bank which deals in all kinds of loans. They have presence across all major cities in India and focus on lending products. They have a digital arm which sources customers from the internet."
   ]
  },
  {
   "cell_type": "markdown",
   "metadata": {},
   "source": [
    "## Problem description\n",
    "\n",
    "Digital arms of banks today face challenges with lead conversion, they source leads through mediums like search, display, email campaigns and via affiliate partners. Here Happy Customer Bank faces same challenge of low conversion ratio. They have given a problem to identify the customers segments having higher conversion ratio for a specific loan product so that they can specifically target these customers, here they have provided a partial data set for salaried customers only from the last 3 months. They also capture basic details about customers like gender, DOB, existing EMI, employer Name, Loan Amount Required, Monthly Income, City, Interaction data and many others. Let’s look at the process at Happy Customer Bank."
   ]
  },
  {
   "cell_type": "code",
   "execution_count": 825,
   "metadata": {
    "scrolled": true
   },
   "outputs": [
    {
     "data": {
      "image/png": "[encoded data removed]",
      "text/plain": [
       "<IPython.core.display.Image object>"
      ]
     },
     "execution_count": 825,
     "metadata": {
      "image/png": {
       "height": 400,
       "width": 800
      }
     },
     "output_type": "execute_result"
    }
   ],
   "source": [
    "from IPython.display import Image\n",
    "Image(filename = \"Images/Process_at_Happy_Customer_Bank.png\",width=800, height=400)"
   ]
  },
  {
   "cell_type": "markdown",
   "metadata": {},
   "source": [
    "In above process, customer applications can drop majorly at two stages, at login and approval/ rejection by bank. Here we need to identify the segment of customers having higher disbursal rate in next 30 days.\n",
    "Data Set\n",
    "We have train and test data set, train data set has both input and output variable(s). Need to predict probability of disbursal for test data set."
   ]
  },
  {
   "cell_type": "markdown",
   "metadata": {},
   "source": [
    "## Data Set\n",
    "We have train and test data set, train data set has both input and output variable(s). Need to predict probability of disbursal for test data set.\n",
    "\n",
    "Source of data:\n",
    "\n",
    "https://discuss.analyticsvidhya.com/t/hackathon-3-x-predict-customer-worth-for-happy-customer-bank/3802\n",
    "\n",
    "## Input variables:\n",
    "\n",
    "\n",
    "    ID - Unique ID (can not be used for predictions)\n",
    "    Gender- Sex\n",
    "    City - Current City\n",
    "    Monthly_Income - Monthly Income in rupees\n",
    "    DOB - Date of Birth\n",
    "    Lead_Creation_Date - Lead Created on date\n",
    "    Loan_Amount_Applied - Loan Amount Requested (INR)\n",
    "    Loan_Tenure_Applied - Loan Tenure Requested (in years)\n",
    "    Existing_EMI - EMI of Existing Loans (INR)\n",
    "    Employer_Name - Employer Name\n",
    "    Salary_Account- Salary account with Bank\n",
    "    Mobile_Verified - Mobile Verified (Y/N)\n",
    "    Var5- Continuous classified variable\n",
    "    Var1- Categorical variable with multiple levels\n",
    "    Loan_Amount_Submitted- Loan Amount Revised and Selected after seeing Eligibility\n",
    "    Loan_Tenure_Submitted- Loan Tenure Revised and Selected after seeing Eligibility (Years)\n",
    "    Interest_Rate- Interest Rate of Submitted Loan Amount\n",
    "    Processing_Fee- Processing Fee of Submitted Loan Amount (INR)\n",
    "    EMI_Loan_Submitted- EMI of Submitted Loan Amount (INR)\n",
    "    Filled_Form- Filled Application form post quote\n",
    "    Device_Type- Device from which application was made (Browser/ Mobile)\n",
    "    Var2- Categorical Variable with multiple Levels\n",
    "    Source- Categorical Variable with multiple Levels\n",
    "    Var4- Categorical Variable with multiple Levels\n",
    "    \n",
    "## Outcomes:\n",
    "\n",
    "    LoggedIn- Application Logged (Variable for understanding the problem – cannot be used in prediction)\n",
    "    Disbursed- Loan Disbursed (Target Variable)"
   ]
  },
  {
   "cell_type": "markdown",
   "metadata": {},
   "source": [
    "# -------------------------------------------------------------------------------------------------------------------"
   ]
  },
  {
   "cell_type": "code",
   "execution_count": 826,
   "metadata": {},
   "outputs": [],
   "source": [
    "import numpy as np\n",
    "import pandas as pd\n",
    "import seaborn as sns\n",
    "import matplotlib.pyplot as plt"
   ]
  },
  {
   "cell_type": "code",
   "execution_count": 827,
   "metadata": {},
   "outputs": [
    {
     "name": "stdout",
     "output_type": "stream",
     "text": [
      "(87020, 26)\n"
     ]
    }
   ],
   "source": [
    "#Reading data. The file has been saved according to the ISO-8859-1 standard what it refers to as \"Latin alphabet no. 1\"\n",
    "data = pd.read_csv('Data/HappyCustomerBank/Train_nyOWmfK.csv',encoding='latin_1')\n",
    "print(data.shape)"
   ]
  },
  {
   "cell_type": "code",
   "execution_count": 828,
   "metadata": {},
   "outputs": [
    {
     "data": {
      "text/html": [
       "<div>\n",
       "<style scoped>\n",
       "    .dataframe tbody tr th:only-of-type {\n",
       "        vertical-align: middle;\n",
       "    }\n",
       "\n",
       "    .dataframe tbody tr th {\n",
       "        vertical-align: top;\n",
       "    }\n",
       "\n",
       "    .dataframe thead th {\n",
       "        text-align: right;\n",
       "    }\n",
       "</style>\n",
       "<table border=\"1\" class=\"dataframe\">\n",
       "  <thead>\n",
       "    <tr style=\"text-align: right;\">\n",
       "      <th></th>\n",
       "      <th>ID</th>\n",
       "      <th>Gender</th>\n",
       "      <th>City</th>\n",
       "      <th>Monthly_Income</th>\n",
       "      <th>DOB</th>\n",
       "      <th>Lead_Creation_Date</th>\n",
       "      <th>Loan_Amount_Applied</th>\n",
       "      <th>Loan_Tenure_Applied</th>\n",
       "      <th>Existing_EMI</th>\n",
       "      <th>Employer_Name</th>\n",
       "      <th>...</th>\n",
       "      <th>Interest_Rate</th>\n",
       "      <th>Processing_Fee</th>\n",
       "      <th>EMI_Loan_Submitted</th>\n",
       "      <th>Filled_Form</th>\n",
       "      <th>Device_Type</th>\n",
       "      <th>Var2</th>\n",
       "      <th>Source</th>\n",
       "      <th>Var4</th>\n",
       "      <th>LoggedIn</th>\n",
       "      <th>Disbursed</th>\n",
       "    </tr>\n",
       "  </thead>\n",
       "  <tbody>\n",
       "    <tr>\n",
       "      <th>0</th>\n",
       "      <td>ID000002C20</td>\n",
       "      <td>Female</td>\n",
       "      <td>Delhi</td>\n",
       "      <td>20000</td>\n",
       "      <td>23-May-78</td>\n",
       "      <td>15-May-15</td>\n",
       "      <td>300000.0</td>\n",
       "      <td>5.0</td>\n",
       "      <td>0.0</td>\n",
       "      <td>CYBOSOL</td>\n",
       "      <td>...</td>\n",
       "      <td>NaN</td>\n",
       "      <td>NaN</td>\n",
       "      <td>NaN</td>\n",
       "      <td>N</td>\n",
       "      <td>Web-browser</td>\n",
       "      <td>G</td>\n",
       "      <td>S122</td>\n",
       "      <td>1</td>\n",
       "      <td>0</td>\n",
       "      <td>0</td>\n",
       "    </tr>\n",
       "    <tr>\n",
       "      <th>1</th>\n",
       "      <td>ID000004E40</td>\n",
       "      <td>Male</td>\n",
       "      <td>Mumbai</td>\n",
       "      <td>35000</td>\n",
       "      <td>07-Oct-85</td>\n",
       "      <td>04-May-15</td>\n",
       "      <td>200000.0</td>\n",
       "      <td>2.0</td>\n",
       "      <td>0.0</td>\n",
       "      <td>TATA CONSULTANCY SERVICES LTD (TCS)</td>\n",
       "      <td>...</td>\n",
       "      <td>13.25</td>\n",
       "      <td>NaN</td>\n",
       "      <td>6762.90</td>\n",
       "      <td>N</td>\n",
       "      <td>Web-browser</td>\n",
       "      <td>G</td>\n",
       "      <td>S122</td>\n",
       "      <td>3</td>\n",
       "      <td>0</td>\n",
       "      <td>0</td>\n",
       "    </tr>\n",
       "    <tr>\n",
       "      <th>2</th>\n",
       "      <td>ID000007H20</td>\n",
       "      <td>Male</td>\n",
       "      <td>Panchkula</td>\n",
       "      <td>22500</td>\n",
       "      <td>10-Oct-81</td>\n",
       "      <td>19-May-15</td>\n",
       "      <td>600000.0</td>\n",
       "      <td>4.0</td>\n",
       "      <td>0.0</td>\n",
       "      <td>ALCHEMIST HOSPITALS LTD</td>\n",
       "      <td>...</td>\n",
       "      <td>NaN</td>\n",
       "      <td>NaN</td>\n",
       "      <td>NaN</td>\n",
       "      <td>N</td>\n",
       "      <td>Web-browser</td>\n",
       "      <td>B</td>\n",
       "      <td>S143</td>\n",
       "      <td>1</td>\n",
       "      <td>0</td>\n",
       "      <td>0</td>\n",
       "    </tr>\n",
       "    <tr>\n",
       "      <th>3</th>\n",
       "      <td>ID000008I30</td>\n",
       "      <td>Male</td>\n",
       "      <td>Saharsa</td>\n",
       "      <td>35000</td>\n",
       "      <td>30-Nov-87</td>\n",
       "      <td>09-May-15</td>\n",
       "      <td>1000000.0</td>\n",
       "      <td>5.0</td>\n",
       "      <td>0.0</td>\n",
       "      <td>BIHAR GOVERNMENT</td>\n",
       "      <td>...</td>\n",
       "      <td>NaN</td>\n",
       "      <td>NaN</td>\n",
       "      <td>NaN</td>\n",
       "      <td>N</td>\n",
       "      <td>Web-browser</td>\n",
       "      <td>B</td>\n",
       "      <td>S143</td>\n",
       "      <td>3</td>\n",
       "      <td>0</td>\n",
       "      <td>0</td>\n",
       "    </tr>\n",
       "    <tr>\n",
       "      <th>4</th>\n",
       "      <td>ID000009J40</td>\n",
       "      <td>Male</td>\n",
       "      <td>Bengaluru</td>\n",
       "      <td>100000</td>\n",
       "      <td>17-Feb-84</td>\n",
       "      <td>20-May-15</td>\n",
       "      <td>500000.0</td>\n",
       "      <td>2.0</td>\n",
       "      <td>25000.0</td>\n",
       "      <td>GLOBAL EDGE SOFTWARE</td>\n",
       "      <td>...</td>\n",
       "      <td>NaN</td>\n",
       "      <td>NaN</td>\n",
       "      <td>NaN</td>\n",
       "      <td>N</td>\n",
       "      <td>Web-browser</td>\n",
       "      <td>B</td>\n",
       "      <td>S134</td>\n",
       "      <td>3</td>\n",
       "      <td>1</td>\n",
       "      <td>0</td>\n",
       "    </tr>\n",
       "    <tr>\n",
       "      <th>5</th>\n",
       "      <td>ID000010K00</td>\n",
       "      <td>Male</td>\n",
       "      <td>Bengaluru</td>\n",
       "      <td>45000</td>\n",
       "      <td>21-Apr-82</td>\n",
       "      <td>20-May-15</td>\n",
       "      <td>300000.0</td>\n",
       "      <td>5.0</td>\n",
       "      <td>15000.0</td>\n",
       "      <td>COGNIZANT TECHNOLOGY SOLUTIONS INDIA PVT LTD</td>\n",
       "      <td>...</td>\n",
       "      <td>13.99</td>\n",
       "      <td>1500.0</td>\n",
       "      <td>6978.92</td>\n",
       "      <td>N</td>\n",
       "      <td>Web-browser</td>\n",
       "      <td>B</td>\n",
       "      <td>S143</td>\n",
       "      <td>3</td>\n",
       "      <td>1</td>\n",
       "      <td>0</td>\n",
       "    </tr>\n",
       "    <tr>\n",
       "      <th>6</th>\n",
       "      <td>ID000011L10</td>\n",
       "      <td>Female</td>\n",
       "      <td>Sindhudurg</td>\n",
       "      <td>70000</td>\n",
       "      <td>23-Oct-87</td>\n",
       "      <td>01-May-15</td>\n",
       "      <td>6.0</td>\n",
       "      <td>5.0</td>\n",
       "      <td>0.0</td>\n",
       "      <td>CARNIVAL CRUISE LINE</td>\n",
       "      <td>...</td>\n",
       "      <td>NaN</td>\n",
       "      <td>NaN</td>\n",
       "      <td>NaN</td>\n",
       "      <td>N</td>\n",
       "      <td>Web-browser</td>\n",
       "      <td>B</td>\n",
       "      <td>S133</td>\n",
       "      <td>1</td>\n",
       "      <td>0</td>\n",
       "      <td>0</td>\n",
       "    </tr>\n",
       "    <tr>\n",
       "      <th>7</th>\n",
       "      <td>ID000012M20</td>\n",
       "      <td>Male</td>\n",
       "      <td>Bengaluru</td>\n",
       "      <td>20000</td>\n",
       "      <td>25-Jul-75</td>\n",
       "      <td>20-May-15</td>\n",
       "      <td>200000.0</td>\n",
       "      <td>5.0</td>\n",
       "      <td>2597.0</td>\n",
       "      <td>GOLDEN TULIP FLORITECH PVT. LTD</td>\n",
       "      <td>...</td>\n",
       "      <td>NaN</td>\n",
       "      <td>NaN</td>\n",
       "      <td>NaN</td>\n",
       "      <td>N</td>\n",
       "      <td>Web-browser</td>\n",
       "      <td>B</td>\n",
       "      <td>S159</td>\n",
       "      <td>3</td>\n",
       "      <td>0</td>\n",
       "      <td>0</td>\n",
       "    </tr>\n",
       "    <tr>\n",
       "      <th>8</th>\n",
       "      <td>ID000013N30</td>\n",
       "      <td>Male</td>\n",
       "      <td>Kochi</td>\n",
       "      <td>75000</td>\n",
       "      <td>26-Jan-72</td>\n",
       "      <td>02-May-15</td>\n",
       "      <td>0.0</td>\n",
       "      <td>0.0</td>\n",
       "      <td>0.0</td>\n",
       "      <td>SIIS PVT LTD</td>\n",
       "      <td>...</td>\n",
       "      <td>14.85</td>\n",
       "      <td>26000.0</td>\n",
       "      <td>30824.65</td>\n",
       "      <td>Y</td>\n",
       "      <td>Mobile</td>\n",
       "      <td>C</td>\n",
       "      <td>S122</td>\n",
       "      <td>5</td>\n",
       "      <td>0</td>\n",
       "      <td>0</td>\n",
       "    </tr>\n",
       "    <tr>\n",
       "      <th>9</th>\n",
       "      <td>ID000014O40</td>\n",
       "      <td>Female</td>\n",
       "      <td>Mumbai</td>\n",
       "      <td>30000</td>\n",
       "      <td>12-Sep-89</td>\n",
       "      <td>03-May-15</td>\n",
       "      <td>300000.0</td>\n",
       "      <td>3.0</td>\n",
       "      <td>0.0</td>\n",
       "      <td>SOUNDCLOUD.COM</td>\n",
       "      <td>...</td>\n",
       "      <td>18.25</td>\n",
       "      <td>1500.0</td>\n",
       "      <td>10883.38</td>\n",
       "      <td>N</td>\n",
       "      <td>Web-browser</td>\n",
       "      <td>B</td>\n",
       "      <td>S133</td>\n",
       "      <td>1</td>\n",
       "      <td>0</td>\n",
       "      <td>0</td>\n",
       "    </tr>\n",
       "  </tbody>\n",
       "</table>\n",
       "<p>10 rows × 26 columns</p>\n",
       "</div>"
      ],
      "text/plain": [
       "            ID  Gender        City  Monthly_Income        DOB  \\\n",
       "0  ID000002C20  Female       Delhi           20000  23-May-78   \n",
       "1  ID000004E40    Male      Mumbai           35000  07-Oct-85   \n",
       "2  ID000007H20    Male   Panchkula           22500  10-Oct-81   \n",
       "3  ID000008I30    Male     Saharsa           35000  30-Nov-87   \n",
       "4  ID000009J40    Male   Bengaluru          100000  17-Feb-84   \n",
       "5  ID000010K00    Male   Bengaluru           45000  21-Apr-82   \n",
       "6  ID000011L10  Female  Sindhudurg           70000  23-Oct-87   \n",
       "7  ID000012M20    Male   Bengaluru           20000  25-Jul-75   \n",
       "8  ID000013N30    Male       Kochi           75000  26-Jan-72   \n",
       "9  ID000014O40  Female      Mumbai           30000  12-Sep-89   \n",
       "\n",
       "  Lead_Creation_Date  Loan_Amount_Applied  Loan_Tenure_Applied  Existing_EMI  \\\n",
       "0          15-May-15             300000.0                  5.0           0.0   \n",
       "1          04-May-15             200000.0                  2.0           0.0   \n",
       "2          19-May-15             600000.0                  4.0           0.0   \n",
       "3          09-May-15            1000000.0                  5.0           0.0   \n",
       "4          20-May-15             500000.0                  2.0       25000.0   \n",
       "5          20-May-15             300000.0                  5.0       15000.0   \n",
       "6          01-May-15                  6.0                  5.0           0.0   \n",
       "7          20-May-15             200000.0                  5.0        2597.0   \n",
       "8          02-May-15                  0.0                  0.0           0.0   \n",
       "9          03-May-15             300000.0                  3.0           0.0   \n",
       "\n",
       "                                  Employer_Name  ... Interest_Rate  \\\n",
       "0                                       CYBOSOL  ...           NaN   \n",
       "1           TATA CONSULTANCY SERVICES LTD (TCS)  ...         13.25   \n",
       "2                       ALCHEMIST HOSPITALS LTD  ...           NaN   \n",
       "3                              BIHAR GOVERNMENT  ...           NaN   \n",
       "4                          GLOBAL EDGE SOFTWARE  ...           NaN   \n",
       "5  COGNIZANT TECHNOLOGY SOLUTIONS INDIA PVT LTD  ...         13.99   \n",
       "6                          CARNIVAL CRUISE LINE  ...           NaN   \n",
       "7               GOLDEN TULIP FLORITECH PVT. LTD  ...           NaN   \n",
       "8                                  SIIS PVT LTD  ...         14.85   \n",
       "9                                SOUNDCLOUD.COM  ...         18.25   \n",
       "\n",
       "  Processing_Fee  EMI_Loan_Submitted Filled_Form  Device_Type  Var2  Source  \\\n",
       "0            NaN                 NaN           N  Web-browser     G    S122   \n",
       "1            NaN             6762.90           N  Web-browser     G    S122   \n",
       "2            NaN                 NaN           N  Web-browser     B    S143   \n",
       "3            NaN                 NaN           N  Web-browser     B    S143   \n",
       "4            NaN                 NaN           N  Web-browser     B    S134   \n",
       "5         1500.0             6978.92           N  Web-browser     B    S143   \n",
       "6            NaN                 NaN           N  Web-browser     B    S133   \n",
       "7            NaN                 NaN           N  Web-browser     B    S159   \n",
       "8        26000.0            30824.65           Y       Mobile     C    S122   \n",
       "9         1500.0            10883.38           N  Web-browser     B    S133   \n",
       "\n",
       "   Var4  LoggedIn Disbursed  \n",
       "0     1         0         0  \n",
       "1     3         0         0  \n",
       "2     1         0         0  \n",
       "3     3         0         0  \n",
       "4     3         1         0  \n",
       "5     3         1         0  \n",
       "6     1         0         0  \n",
       "7     3         0         0  \n",
       "8     5         0         0  \n",
       "9     1         0         0  \n",
       "\n",
       "[10 rows x 26 columns]"
      ]
     },
     "execution_count": 828,
     "metadata": {},
     "output_type": "execute_result"
    }
   ],
   "source": [
    "data.head(10)"
   ]
  },
  {
   "cell_type": "code",
   "execution_count": 829,
   "metadata": {},
   "outputs": [
    {
     "name": "stdout",
     "output_type": "stream",
     "text": [
      "571\n"
     ]
    },
    {
     "data": {
      "text/html": [
       "<div>\n",
       "<style scoped>\n",
       "    .dataframe tbody tr th:only-of-type {\n",
       "        vertical-align: middle;\n",
       "    }\n",
       "\n",
       "    .dataframe tbody tr th {\n",
       "        vertical-align: top;\n",
       "    }\n",
       "\n",
       "    .dataframe thead th {\n",
       "        text-align: right;\n",
       "    }\n",
       "</style>\n",
       "<table border=\"1\" class=\"dataframe\">\n",
       "  <thead>\n",
       "    <tr style=\"text-align: right;\">\n",
       "      <th></th>\n",
       "      <th>ID</th>\n",
       "      <th>Gender</th>\n",
       "      <th>City</th>\n",
       "      <th>Monthly_Income</th>\n",
       "      <th>DOB</th>\n",
       "      <th>Lead_Creation_Date</th>\n",
       "      <th>Loan_Amount_Applied</th>\n",
       "      <th>Loan_Tenure_Applied</th>\n",
       "      <th>Existing_EMI</th>\n",
       "      <th>Employer_Name</th>\n",
       "      <th>...</th>\n",
       "      <th>Interest_Rate</th>\n",
       "      <th>Processing_Fee</th>\n",
       "      <th>EMI_Loan_Submitted</th>\n",
       "      <th>Filled_Form</th>\n",
       "      <th>Device_Type</th>\n",
       "      <th>Var2</th>\n",
       "      <th>Source</th>\n",
       "      <th>Var4</th>\n",
       "      <th>LoggedIn</th>\n",
       "      <th>Disbursed</th>\n",
       "    </tr>\n",
       "  </thead>\n",
       "  <tbody>\n",
       "    <tr>\n",
       "      <th>183</th>\n",
       "      <td>ID000269J40</td>\n",
       "      <td>Male</td>\n",
       "      <td>Delhi</td>\n",
       "      <td>43000</td>\n",
       "      <td>31-Dec-80</td>\n",
       "      <td>01-May-15</td>\n",
       "      <td>200000.0</td>\n",
       "      <td>3.0</td>\n",
       "      <td>8902.0</td>\n",
       "      <td>INDIA INTERNATIONAL CENTER</td>\n",
       "      <td>...</td>\n",
       "      <td>NaN</td>\n",
       "      <td>NaN</td>\n",
       "      <td>NaN</td>\n",
       "      <td>N</td>\n",
       "      <td>Web-browser</td>\n",
       "      <td>B</td>\n",
       "      <td>S143</td>\n",
       "      <td>3</td>\n",
       "      <td>1</td>\n",
       "      <td>1</td>\n",
       "    </tr>\n",
       "    <tr>\n",
       "      <th>317</th>\n",
       "      <td>ID000467Z20</td>\n",
       "      <td>Male</td>\n",
       "      <td>Delhi</td>\n",
       "      <td>37200</td>\n",
       "      <td>03-Nov-92</td>\n",
       "      <td>01-May-15</td>\n",
       "      <td>400000.0</td>\n",
       "      <td>4.0</td>\n",
       "      <td>0.0</td>\n",
       "      <td>ZS ASSOCIATES INDIA PVT LTD</td>\n",
       "      <td>...</td>\n",
       "      <td>15.35</td>\n",
       "      <td>2000.0</td>\n",
       "      <td>11203.4</td>\n",
       "      <td>N</td>\n",
       "      <td>Web-browser</td>\n",
       "      <td>B</td>\n",
       "      <td>S133</td>\n",
       "      <td>4</td>\n",
       "      <td>1</td>\n",
       "      <td>1</td>\n",
       "    </tr>\n",
       "    <tr>\n",
       "      <th>362</th>\n",
       "      <td>ID000527H20</td>\n",
       "      <td>Female</td>\n",
       "      <td>Pune</td>\n",
       "      <td>500000</td>\n",
       "      <td>05-Feb-80</td>\n",
       "      <td>01-May-15</td>\n",
       "      <td>500000.0</td>\n",
       "      <td>5.0</td>\n",
       "      <td>20000.0</td>\n",
       "      <td>AMDOCS DEVELOPMENT CENTRE INDIA PVT LTD</td>\n",
       "      <td>...</td>\n",
       "      <td>NaN</td>\n",
       "      <td>NaN</td>\n",
       "      <td>NaN</td>\n",
       "      <td>N</td>\n",
       "      <td>Web-browser</td>\n",
       "      <td>B</td>\n",
       "      <td>S133</td>\n",
       "      <td>3</td>\n",
       "      <td>1</td>\n",
       "      <td>1</td>\n",
       "    </tr>\n",
       "    <tr>\n",
       "      <th>453</th>\n",
       "      <td>ID000655F00</td>\n",
       "      <td>Female</td>\n",
       "      <td>Delhi</td>\n",
       "      <td>150000</td>\n",
       "      <td>19-Apr-74</td>\n",
       "      <td>01-May-15</td>\n",
       "      <td>1000000.0</td>\n",
       "      <td>3.0</td>\n",
       "      <td>11000.0</td>\n",
       "      <td>STRATEGIC ANALYSIS INDIA PVT LTD</td>\n",
       "      <td>...</td>\n",
       "      <td>NaN</td>\n",
       "      <td>NaN</td>\n",
       "      <td>NaN</td>\n",
       "      <td>N</td>\n",
       "      <td>Web-browser</td>\n",
       "      <td>B</td>\n",
       "      <td>S133</td>\n",
       "      <td>3</td>\n",
       "      <td>1</td>\n",
       "      <td>1</td>\n",
       "    </tr>\n",
       "    <tr>\n",
       "      <th>519</th>\n",
       "      <td>ID000757D20</td>\n",
       "      <td>Male</td>\n",
       "      <td>Firozpur</td>\n",
       "      <td>27000</td>\n",
       "      <td>16-Nov-79</td>\n",
       "      <td>01-May-15</td>\n",
       "      <td>200000.0</td>\n",
       "      <td>5.0</td>\n",
       "      <td>0.0</td>\n",
       "      <td>DEPARTMENT OF POST</td>\n",
       "      <td>...</td>\n",
       "      <td>16.50</td>\n",
       "      <td>2500.0</td>\n",
       "      <td>4916.9</td>\n",
       "      <td>Y</td>\n",
       "      <td>Web-browser</td>\n",
       "      <td>B</td>\n",
       "      <td>S133</td>\n",
       "      <td>5</td>\n",
       "      <td>1</td>\n",
       "      <td>1</td>\n",
       "    </tr>\n",
       "    <tr>\n",
       "      <th>...</th>\n",
       "      <td>...</td>\n",
       "      <td>...</td>\n",
       "      <td>...</td>\n",
       "      <td>...</td>\n",
       "      <td>...</td>\n",
       "      <td>...</td>\n",
       "      <td>...</td>\n",
       "      <td>...</td>\n",
       "      <td>...</td>\n",
       "      <td>...</td>\n",
       "      <td>...</td>\n",
       "      <td>...</td>\n",
       "      <td>...</td>\n",
       "      <td>...</td>\n",
       "      <td>...</td>\n",
       "      <td>...</td>\n",
       "      <td>...</td>\n",
       "      <td>...</td>\n",
       "      <td>...</td>\n",
       "      <td>...</td>\n",
       "      <td>...</td>\n",
       "    </tr>\n",
       "    <tr>\n",
       "      <th>86818</th>\n",
       "      <td>ID124525L00</td>\n",
       "      <td>Male</td>\n",
       "      <td>Delhi</td>\n",
       "      <td>160000</td>\n",
       "      <td>25-Jan-85</td>\n",
       "      <td>31-Jul-15</td>\n",
       "      <td>1000000.0</td>\n",
       "      <td>5.0</td>\n",
       "      <td>50000.0</td>\n",
       "      <td>ESCORT LTD</td>\n",
       "      <td>...</td>\n",
       "      <td>NaN</td>\n",
       "      <td>NaN</td>\n",
       "      <td>NaN</td>\n",
       "      <td>N</td>\n",
       "      <td>Web-browser</td>\n",
       "      <td>G</td>\n",
       "      <td>S122</td>\n",
       "      <td>3</td>\n",
       "      <td>1</td>\n",
       "      <td>1</td>\n",
       "    </tr>\n",
       "    <tr>\n",
       "      <th>86822</th>\n",
       "      <td>ID124532S20</td>\n",
       "      <td>Male</td>\n",
       "      <td>Mumbai</td>\n",
       "      <td>64000</td>\n",
       "      <td>12-May-85</td>\n",
       "      <td>31-Jul-15</td>\n",
       "      <td>500000.0</td>\n",
       "      <td>5.0</td>\n",
       "      <td>12401.0</td>\n",
       "      <td>SANDESH BANDODE</td>\n",
       "      <td>...</td>\n",
       "      <td>NaN</td>\n",
       "      <td>NaN</td>\n",
       "      <td>NaN</td>\n",
       "      <td>N</td>\n",
       "      <td>Web-browser</td>\n",
       "      <td>G</td>\n",
       "      <td>S122</td>\n",
       "      <td>3</td>\n",
       "      <td>1</td>\n",
       "      <td>1</td>\n",
       "    </tr>\n",
       "    <tr>\n",
       "      <th>86872</th>\n",
       "      <td>ID124603L30</td>\n",
       "      <td>Male</td>\n",
       "      <td>Jaipur</td>\n",
       "      <td>45000</td>\n",
       "      <td>30-Dec-90</td>\n",
       "      <td>31-Jul-15</td>\n",
       "      <td>0.0</td>\n",
       "      <td>0.0</td>\n",
       "      <td>0.0</td>\n",
       "      <td>MANKIND PHARMA LTD</td>\n",
       "      <td>...</td>\n",
       "      <td>13.75</td>\n",
       "      <td>8100.0</td>\n",
       "      <td>22033.0</td>\n",
       "      <td>Y</td>\n",
       "      <td>Mobile</td>\n",
       "      <td>G</td>\n",
       "      <td>S122</td>\n",
       "      <td>5</td>\n",
       "      <td>1</td>\n",
       "      <td>1</td>\n",
       "    </tr>\n",
       "    <tr>\n",
       "      <th>86938</th>\n",
       "      <td>ID124703H30</td>\n",
       "      <td>Female</td>\n",
       "      <td>Kolkata</td>\n",
       "      <td>105000</td>\n",
       "      <td>23-Nov-82</td>\n",
       "      <td>31-Jul-15</td>\n",
       "      <td>0.0</td>\n",
       "      <td>2.0</td>\n",
       "      <td>62418.0</td>\n",
       "      <td>IBM INDIA PVT LTD</td>\n",
       "      <td>...</td>\n",
       "      <td>NaN</td>\n",
       "      <td>NaN</td>\n",
       "      <td>NaN</td>\n",
       "      <td>N</td>\n",
       "      <td>Web-browser</td>\n",
       "      <td>G</td>\n",
       "      <td>S122</td>\n",
       "      <td>1</td>\n",
       "      <td>1</td>\n",
       "      <td>1</td>\n",
       "    </tr>\n",
       "    <tr>\n",
       "      <th>86959</th>\n",
       "      <td>ID124732K20</td>\n",
       "      <td>Male</td>\n",
       "      <td>Bengaluru</td>\n",
       "      <td>55000</td>\n",
       "      <td>05-Nov-85</td>\n",
       "      <td>31-Jul-15</td>\n",
       "      <td>400000.0</td>\n",
       "      <td>5.0</td>\n",
       "      <td>0.0</td>\n",
       "      <td>TIRUPATI  NANDA</td>\n",
       "      <td>...</td>\n",
       "      <td>NaN</td>\n",
       "      <td>NaN</td>\n",
       "      <td>NaN</td>\n",
       "      <td>N</td>\n",
       "      <td>Web-browser</td>\n",
       "      <td>G</td>\n",
       "      <td>S122</td>\n",
       "      <td>3</td>\n",
       "      <td>1</td>\n",
       "      <td>1</td>\n",
       "    </tr>\n",
       "  </tbody>\n",
       "</table>\n",
       "<p>1273 rows × 26 columns</p>\n",
       "</div>"
      ],
      "text/plain": [
       "                ID  Gender       City  Monthly_Income        DOB  \\\n",
       "183    ID000269J40    Male      Delhi           43000  31-Dec-80   \n",
       "317    ID000467Z20    Male      Delhi           37200  03-Nov-92   \n",
       "362    ID000527H20  Female       Pune          500000  05-Feb-80   \n",
       "453    ID000655F00  Female      Delhi          150000  19-Apr-74   \n",
       "519    ID000757D20    Male   Firozpur           27000  16-Nov-79   \n",
       "...            ...     ...        ...             ...        ...   \n",
       "86818  ID124525L00    Male      Delhi          160000  25-Jan-85   \n",
       "86822  ID124532S20    Male     Mumbai           64000  12-May-85   \n",
       "86872  ID124603L30    Male     Jaipur           45000  30-Dec-90   \n",
       "86938  ID124703H30  Female    Kolkata          105000  23-Nov-82   \n",
       "86959  ID124732K20    Male  Bengaluru           55000  05-Nov-85   \n",
       "\n",
       "      Lead_Creation_Date  Loan_Amount_Applied  Loan_Tenure_Applied  \\\n",
       "183            01-May-15             200000.0                  3.0   \n",
       "317            01-May-15             400000.0                  4.0   \n",
       "362            01-May-15             500000.0                  5.0   \n",
       "453            01-May-15            1000000.0                  3.0   \n",
       "519            01-May-15             200000.0                  5.0   \n",
       "...                  ...                  ...                  ...   \n",
       "86818          31-Jul-15            1000000.0                  5.0   \n",
       "86822          31-Jul-15             500000.0                  5.0   \n",
       "86872          31-Jul-15                  0.0                  0.0   \n",
       "86938          31-Jul-15                  0.0                  2.0   \n",
       "86959          31-Jul-15             400000.0                  5.0   \n",
       "\n",
       "       Existing_EMI                            Employer_Name  ...  \\\n",
       "183          8902.0               INDIA INTERNATIONAL CENTER  ...   \n",
       "317             0.0              ZS ASSOCIATES INDIA PVT LTD  ...   \n",
       "362         20000.0  AMDOCS DEVELOPMENT CENTRE INDIA PVT LTD  ...   \n",
       "453         11000.0         STRATEGIC ANALYSIS INDIA PVT LTD  ...   \n",
       "519             0.0                       DEPARTMENT OF POST  ...   \n",
       "...             ...                                      ...  ...   \n",
       "86818       50000.0                               ESCORT LTD  ...   \n",
       "86822       12401.0                          SANDESH BANDODE  ...   \n",
       "86872           0.0                      MANKIND PHARMA LTD   ...   \n",
       "86938       62418.0                        IBM INDIA PVT LTD  ...   \n",
       "86959           0.0                          TIRUPATI  NANDA  ...   \n",
       "\n",
       "      Interest_Rate Processing_Fee  EMI_Loan_Submitted Filled_Form  \\\n",
       "183             NaN            NaN                 NaN           N   \n",
       "317           15.35         2000.0             11203.4           N   \n",
       "362             NaN            NaN                 NaN           N   \n",
       "453             NaN            NaN                 NaN           N   \n",
       "519           16.50         2500.0              4916.9           Y   \n",
       "...             ...            ...                 ...         ...   \n",
       "86818           NaN            NaN                 NaN           N   \n",
       "86822           NaN            NaN                 NaN           N   \n",
       "86872         13.75         8100.0             22033.0           Y   \n",
       "86938           NaN            NaN                 NaN           N   \n",
       "86959           NaN            NaN                 NaN           N   \n",
       "\n",
       "       Device_Type  Var2  Source  Var4  LoggedIn Disbursed  \n",
       "183    Web-browser     B    S143     3         1         1  \n",
       "317    Web-browser     B    S133     4         1         1  \n",
       "362    Web-browser     B    S133     3         1         1  \n",
       "453    Web-browser     B    S133     3         1         1  \n",
       "519    Web-browser     B    S133     5         1         1  \n",
       "...            ...   ...     ...   ...       ...       ...  \n",
       "86818  Web-browser     G    S122     3         1         1  \n",
       "86822  Web-browser     G    S122     3         1         1  \n",
       "86872       Mobile     G    S122     5         1         1  \n",
       "86938  Web-browser     G    S122     1         1         1  \n",
       "86959  Web-browser     G    S122     3         1         1  \n",
       "\n",
       "[1273 rows x 26 columns]"
      ]
     },
     "execution_count": 829,
     "metadata": {},
     "output_type": "execute_result"
    }
   ],
   "source": [
    "withdraw = data[data.Disbursed == 1]\n",
    "print(withdraw.value_counts().sum())\n",
    "withdraw"
   ]
  },
  {
   "cell_type": "code",
   "execution_count": 830,
   "metadata": {
    "scrolled": true
   },
   "outputs": [
    {
     "name": "stdout",
     "output_type": "stream",
     "text": [
      "<class 'pandas.core.frame.DataFrame'>\n",
      "RangeIndex: 87020 entries, 0 to 87019\n",
      "Data columns (total 26 columns):\n",
      " #   Column                 Non-Null Count  Dtype  \n",
      "---  ------                 --------------  -----  \n",
      " 0   ID                     87020 non-null  object \n",
      " 1   Gender                 87020 non-null  object \n",
      " 2   City                   86017 non-null  object \n",
      " 3   Monthly_Income         87020 non-null  int64  \n",
      " 4   DOB                    87020 non-null  object \n",
      " 5   Lead_Creation_Date     87020 non-null  object \n",
      " 6   Loan_Amount_Applied    86949 non-null  float64\n",
      " 7   Loan_Tenure_Applied    86949 non-null  float64\n",
      " 8   Existing_EMI           86949 non-null  float64\n",
      " 9   Employer_Name          86949 non-null  object \n",
      " 10  Salary_Account         75256 non-null  object \n",
      " 11  Mobile_Verified        87020 non-null  object \n",
      " 12  Var5                   87020 non-null  int64  \n",
      " 13  Var1                   87020 non-null  object \n",
      " 14  Loan_Amount_Submitted  52407 non-null  float64\n",
      " 15  Loan_Tenure_Submitted  52407 non-null  float64\n",
      " 16  Interest_Rate          27726 non-null  float64\n",
      " 17  Processing_Fee         27420 non-null  float64\n",
      " 18  EMI_Loan_Submitted     27726 non-null  float64\n",
      " 19  Filled_Form            87020 non-null  object \n",
      " 20  Device_Type            87020 non-null  object \n",
      " 21  Var2                   87020 non-null  object \n",
      " 22  Source                 87020 non-null  object \n",
      " 23  Var4                   87020 non-null  int64  \n",
      " 24  LoggedIn               87020 non-null  int64  \n",
      " 25  Disbursed              87020 non-null  int64  \n",
      "dtypes: float64(8), int64(5), object(13)\n",
      "memory usage: 17.3+ MB\n"
     ]
    }
   ],
   "source": [
    "data.info()"
   ]
  },
  {
   "cell_type": "code",
   "execution_count": 831,
   "metadata": {
    "scrolled": true
   },
   "outputs": [
    {
     "data": {
      "text/plain": [
       "Monthly_Income           0.000219\n",
       "Loan_Amount_Applied      0.032846\n",
       "Loan_Tenure_Applied      0.037109\n",
       "Existing_EMI             0.015621\n",
       "Var5                     0.117146\n",
       "Loan_Amount_Submitted    0.043124\n",
       "Loan_Tenure_Submitted   -0.001593\n",
       "Interest_Rate           -0.092410\n",
       "Processing_Fee           0.033229\n",
       "EMI_Loan_Submitted       0.049190\n",
       "Var4                     0.036697\n",
       "LoggedIn                 0.683126\n",
       "Disbursed                1.000000\n",
       "dtype: float64"
      ]
     },
     "execution_count": 831,
     "metadata": {},
     "output_type": "execute_result"
    }
   ],
   "source": [
    "data.corrwith(data['Disbursed'])"
   ]
  },
  {
   "cell_type": "code",
   "execution_count": 832,
   "metadata": {},
   "outputs": [
    {
     "name": "stdout",
     "output_type": "stream",
     "text": [
      "Total percentage of disbursed loan applications is  1.4629 %\n"
     ]
    }
   ],
   "source": [
    "print('Total percentage of disbursed loan applications is  ' + str(((data.Disbursed[data.Disbursed == 1].sum())/(len(data))*100).round(4))+ ' %')"
   ]
  },
  {
   "cell_type": "markdown",
   "metadata": {},
   "source": [
    "# Data preparation"
   ]
  },
  {
   "cell_type": "code",
   "execution_count": 833,
   "metadata": {},
   "outputs": [],
   "source": [
    "del data['ID']  #(can not be used for predictions)"
   ]
  },
  {
   "cell_type": "markdown",
   "metadata": {},
   "source": [
    "### Cities"
   ]
  },
  {
   "cell_type": "markdown",
   "metadata": {},
   "source": [
    "Informations about cityies are important. The number of applications from a given city correlates with the actual city size. Without using an additional file with the number of poles in individual cities of India, we can easily use the number of applications that approximately shows the size of the city.\n",
    "missing values can be supplemented with the category \"Unknown\"."
   ]
  },
  {
   "cell_type": "code",
   "execution_count": 834,
   "metadata": {},
   "outputs": [
    {
     "data": {
      "text/plain": [
       "1003"
      ]
     },
     "execution_count": 834,
     "metadata": {},
     "output_type": "execute_result"
    }
   ],
   "source": [
    "data['City'].isna().sum()"
   ]
  },
  {
   "cell_type": "code",
   "execution_count": 835,
   "metadata": {},
   "outputs": [],
   "source": [
    "data['City'].fillna('Unknown', inplace=True)"
   ]
  },
  {
   "cell_type": "code",
   "execution_count": 836,
   "metadata": {},
   "outputs": [
    {
     "data": {
      "text/plain": [
       "Delhi        12527\n",
       "Bengaluru    10824\n",
       "Mumbai       10795\n",
       "Hyderabad     7272\n",
       "Chennai       6916\n",
       "Name: City, dtype: int64"
      ]
     },
     "execution_count": 836,
     "metadata": {},
     "output_type": "execute_result"
    }
   ],
   "source": [
    "data.City.value_counts().head()"
   ]
  },
  {
   "cell_type": "markdown",
   "metadata": {},
   "source": [
    "The initial assumption has not been confirmed. The dependence of the number of logins from cities does not perfectly reflect the city size. Examples are Surat (4.46 million), 10 Gurgaon (0.876 million), 9 Jaipur (3 million). The table will be created based on Wikipedia data, a list of cities in India along with the population. On this basis, the size of the cities will be compared and then grouped according to their actual size. \n",
    "\n",
    "https://en.wikipedia.org/wiki/List_of_cities_in_India_by_population"
   ]
  },
  {
   "cell_type": "code",
   "execution_count": 837,
   "metadata": {},
   "outputs": [
    {
     "name": "stdout",
     "output_type": "stream",
     "text": [
      "(318, 5)\n"
     ]
    },
    {
     "data": {
      "text/html": [
       "<div>\n",
       "<style scoped>\n",
       "    .dataframe tbody tr th:only-of-type {\n",
       "        vertical-align: middle;\n",
       "    }\n",
       "\n",
       "    .dataframe tbody tr th {\n",
       "        vertical-align: top;\n",
       "    }\n",
       "\n",
       "    .dataframe thead th {\n",
       "        text-align: right;\n",
       "    }\n",
       "</style>\n",
       "<table border=\"1\" class=\"dataframe\">\n",
       "  <thead>\n",
       "    <tr style=\"text-align: right;\">\n",
       "      <th></th>\n",
       "      <th>Rank</th>\n",
       "      <th>City</th>\n",
       "      <th>Population_2011</th>\n",
       "      <th>Population_2001</th>\n",
       "      <th>State or union territory</th>\n",
       "    </tr>\n",
       "  </thead>\n",
       "  <tbody>\n",
       "    <tr>\n",
       "      <th>0</th>\n",
       "      <td>1</td>\n",
       "      <td>Mumbai</td>\n",
       "      <td>12442373</td>\n",
       "      <td>11978450</td>\n",
       "      <td>Maharashtra</td>\n",
       "    </tr>\n",
       "    <tr>\n",
       "      <th>1</th>\n",
       "      <td>2</td>\n",
       "      <td>Delhi</td>\n",
       "      <td>11007835</td>\n",
       "      <td>9879172</td>\n",
       "      <td>Delhi</td>\n",
       "    </tr>\n",
       "    <tr>\n",
       "      <th>2</th>\n",
       "      <td>3</td>\n",
       "      <td>Bengaluru</td>\n",
       "      <td>8436675</td>\n",
       "      <td>4301326</td>\n",
       "      <td>Karnataka</td>\n",
       "    </tr>\n",
       "    <tr>\n",
       "      <th>3</th>\n",
       "      <td>4</td>\n",
       "      <td>Hyderabad</td>\n",
       "      <td>6809970</td>\n",
       "      <td>3637483</td>\n",
       "      <td>Telangana</td>\n",
       "    </tr>\n",
       "    <tr>\n",
       "      <th>4</th>\n",
       "      <td>5</td>\n",
       "      <td>Ahmedabad</td>\n",
       "      <td>5570585</td>\n",
       "      <td>3520085</td>\n",
       "      <td>Gujarat</td>\n",
       "    </tr>\n",
       "    <tr>\n",
       "      <th>5</th>\n",
       "      <td>6</td>\n",
       "      <td>Chennai</td>\n",
       "      <td>4681087</td>\n",
       "      <td>4343645</td>\n",
       "      <td>Tamil Nadu</td>\n",
       "    </tr>\n",
       "    <tr>\n",
       "      <th>6</th>\n",
       "      <td>7</td>\n",
       "      <td>Kolkata</td>\n",
       "      <td>4486679</td>\n",
       "      <td>4572876</td>\n",
       "      <td>West Bengal</td>\n",
       "    </tr>\n",
       "    <tr>\n",
       "      <th>7</th>\n",
       "      <td>8</td>\n",
       "      <td>Surat</td>\n",
       "      <td>4467797</td>\n",
       "      <td>2433835</td>\n",
       "      <td>Gujarat</td>\n",
       "    </tr>\n",
       "    <tr>\n",
       "      <th>8</th>\n",
       "      <td>9</td>\n",
       "      <td>Pune</td>\n",
       "      <td>3115431</td>\n",
       "      <td>2538473</td>\n",
       "      <td>Maharashtra</td>\n",
       "    </tr>\n",
       "    <tr>\n",
       "      <th>9</th>\n",
       "      <td>10</td>\n",
       "      <td>Jaipur</td>\n",
       "      <td>3046163</td>\n",
       "      <td>2322575</td>\n",
       "      <td>Rajasthan</td>\n",
       "    </tr>\n",
       "  </tbody>\n",
       "</table>\n",
       "</div>"
      ],
      "text/plain": [
       "   Rank       City  Population_2011 Population_2001 State or union territory\n",
       "0     1     Mumbai         12442373        11978450              Maharashtra\n",
       "1     2      Delhi         11007835         9879172                    Delhi\n",
       "2     3  Bengaluru          8436675         4301326                Karnataka\n",
       "3     4  Hyderabad          6809970         3637483                Telangana\n",
       "4     5  Ahmedabad          5570585         3520085                  Gujarat\n",
       "5     6    Chennai          4681087         4343645               Tamil Nadu\n",
       "6     7    Kolkata          4486679         4572876              West Bengal\n",
       "7     8      Surat          4467797         2433835                  Gujarat\n",
       "8     9       Pune          3115431         2538473              Maharashtra\n",
       "9    10     Jaipur          3046163         2322575                Rajasthan"
      ]
     },
     "execution_count": 837,
     "metadata": {},
     "output_type": "execute_result"
    }
   ],
   "source": [
    "data_City_population = pd.read_excel('Data/Cities_of_India_excel.xlsx')\n",
    "print(data_City_population.shape)\n",
    "data_City_population.head(10)"
   ]
  },
  {
   "cell_type": "code",
   "execution_count": 838,
   "metadata": {},
   "outputs": [
    {
     "data": {
      "text/plain": [
       "0      12442373\n",
       "1      11007835\n",
       "2       8436675\n",
       "3       6809970\n",
       "4       5570585\n",
       "         ...   \n",
       "313      102505\n",
       "314      102456\n",
       "315      101520\n",
       "316      100286\n",
       "317      100000\n",
       "Name: Population_2011, Length: 318, dtype: int64"
      ]
     },
     "execution_count": 838,
     "metadata": {},
     "output_type": "execute_result"
    }
   ],
   "source": [
    "data_City_population['Population_2011']"
   ]
  },
  {
   "cell_type": "code",
   "execution_count": 839,
   "metadata": {},
   "outputs": [
    {
     "name": "stdout",
     "output_type": "stream",
     "text": [
      "<class 'pandas.core.frame.DataFrame'>\n",
      "RangeIndex: 318 entries, 0 to 317\n",
      "Data columns (total 5 columns):\n",
      " #   Column                    Non-Null Count  Dtype \n",
      "---  ------                    --------------  ----- \n",
      " 0   Rank                      318 non-null    int64 \n",
      " 1   City                      318 non-null    object\n",
      " 2   Population_2011           318 non-null    int64 \n",
      " 3   Population_2001           318 non-null    object\n",
      " 4   State or union territory  318 non-null    object\n",
      "dtypes: int64(2), object(3)\n",
      "memory usage: 12.5+ KB\n"
     ]
    }
   ],
   "source": [
    "data_City_population.info()"
   ]
  },
  {
   "cell_type": "code",
   "execution_count": 840,
   "metadata": {},
   "outputs": [],
   "source": [
    "metropoly = data_City_population.City.values[:5]\n",
    "big_city = data_City_population.City.values[5:24]\n",
    "medium_city = data_City_population.City.values[24:94]\n",
    "small_city = data_City_population.City.values[94:319]"
   ]
  },
  {
   "cell_type": "code",
   "execution_count": 841,
   "metadata": {},
   "outputs": [],
   "source": [
    "def city_sorting(city):\n",
    "    if city in metropoly:\n",
    "        return 'I'\n",
    "    elif city in big_city:\n",
    "        return 'II'\n",
    "    elif city in medium_city:\n",
    "        return 'III'\n",
    "    elif city in small_city:\n",
    "        return 'IV'\n",
    "    else:\n",
    "        return \"V\"\n",
    "    \n",
    "data[\"City_size\"] = data.City.apply(city_sorting)"
   ]
  },
  {
   "cell_type": "code",
   "execution_count": 842,
   "metadata": {},
   "outputs": [
    {
     "name": "stdout",
     "output_type": "stream",
     "text": [
      "0          Delhi\n",
      "1         Mumbai\n",
      "2      Panchkula\n",
      "3        Saharsa\n",
      "4      Bengaluru\n",
      "5      Bengaluru\n",
      "6     Sindhudurg\n",
      "7      Bengaluru\n",
      "8          Kochi\n",
      "9         Mumbai\n",
      "10        Mumbai\n",
      "Name: City, dtype: object\n"
     ]
    },
    {
     "data": {
      "text/plain": [
       "0       I\n",
       "1       I\n",
       "2      IV\n",
       "3      IV\n",
       "4       I\n",
       "5       I\n",
       "6       V\n",
       "7       I\n",
       "8     III\n",
       "9       I\n",
       "10      I\n",
       "Name: City_size, dtype: object"
      ]
     },
     "execution_count": 842,
     "metadata": {},
     "output_type": "execute_result"
    }
   ],
   "source": [
    "print(data.City[:11])\n",
    "data.City_size[:11]"
   ]
  },
  {
   "cell_type": "code",
   "execution_count": 843,
   "metadata": {},
   "outputs": [
    {
     "data": {
      "text/plain": [
       "<AxesSubplot:xlabel='City_size', ylabel='Count'>"
      ]
     },
     "execution_count": 843,
     "metadata": {},
     "output_type": "execute_result"
    },
    {
     "data": {
      "image/png": "[encoded data removed]",
      "text/plain": [
       "<Figure size 432x288 with 1 Axes>"
      ]
     },
     "metadata": {
      "needs_background": "light"
     },
     "output_type": "display_data"
    }
   ],
   "source": [
    "sns.histplot(data['City_size'], bins=5)"
   ]
  },
  {
   "cell_type": "code",
   "execution_count": 844,
   "metadata": {},
   "outputs": [],
   "source": [
    "del data['City']"
   ]
  },
  {
   "cell_type": "markdown",
   "metadata": {},
   "source": [
    "### Date of birth"
   ]
  },
  {
   "cell_type": "markdown",
   "metadata": {},
   "source": [
    "Assuming that dataset was composed in 2015, we can estimate age of the client. The rest of information stored in this variable can be dropped.\n",
    "\n",
    "A new Age variable will arise."
   ]
  },
  {
   "cell_type": "code",
   "execution_count": 845,
   "metadata": {},
   "outputs": [],
   "source": [
    "data['DOB'] = pd.to_datetime(data['DOB'], format='%d-%b-%y')\n",
    "data['Lead_Creation_Date'] = pd.to_datetime(data['Lead_Creation_Date'], format='%d-%b-%y')\n",
    "data['Age'] = data.Lead_Creation_Date.apply(lambda x: x.year) - data.DOB.apply(lambda x: x.year)"
   ]
  },
  {
   "cell_type": "code",
   "execution_count": 846,
   "metadata": {},
   "outputs": [
    {
     "data": {
      "text/plain": [
       "<AxesSubplot:xlabel='Age', ylabel='Count'>"
      ]
     },
     "execution_count": 846,
     "metadata": {},
     "output_type": "execute_result"
    },
    {
     "data": {
      "image/png": "[encoded data removed]",
      "text/plain": [
       "<Figure size 432x288 with 1 Axes>"
      ]
     },
     "metadata": {
      "needs_background": "light"
     },
     "output_type": "display_data"
    }
   ],
   "source": [
    "sns.histplot(data['Age'], bins=10)"
   ]
  },
  {
   "cell_type": "code",
   "execution_count": 847,
   "metadata": {},
   "outputs": [
    {
     "data": {
      "text/html": [
       "<div>\n",
       "<style scoped>\n",
       "    .dataframe tbody tr th:only-of-type {\n",
       "        vertical-align: middle;\n",
       "    }\n",
       "\n",
       "    .dataframe tbody tr th {\n",
       "        vertical-align: top;\n",
       "    }\n",
       "\n",
       "    .dataframe thead th {\n",
       "        text-align: right;\n",
       "    }\n",
       "</style>\n",
       "<table border=\"1\" class=\"dataframe\">\n",
       "  <thead>\n",
       "    <tr style=\"text-align: right;\">\n",
       "      <th></th>\n",
       "      <th>Gender</th>\n",
       "      <th>Monthly_Income</th>\n",
       "      <th>DOB</th>\n",
       "      <th>Lead_Creation_Date</th>\n",
       "      <th>Loan_Amount_Applied</th>\n",
       "      <th>Loan_Tenure_Applied</th>\n",
       "      <th>Existing_EMI</th>\n",
       "      <th>Employer_Name</th>\n",
       "      <th>Salary_Account</th>\n",
       "      <th>Mobile_Verified</th>\n",
       "      <th>...</th>\n",
       "      <th>EMI_Loan_Submitted</th>\n",
       "      <th>Filled_Form</th>\n",
       "      <th>Device_Type</th>\n",
       "      <th>Var2</th>\n",
       "      <th>Source</th>\n",
       "      <th>Var4</th>\n",
       "      <th>LoggedIn</th>\n",
       "      <th>Disbursed</th>\n",
       "      <th>City_size</th>\n",
       "      <th>Age</th>\n",
       "    </tr>\n",
       "  </thead>\n",
       "  <tbody>\n",
       "    <tr>\n",
       "      <th>34</th>\n",
       "      <td>Male</td>\n",
       "      <td>56000</td>\n",
       "      <td>2064-05-28</td>\n",
       "      <td>2015-05-01</td>\n",
       "      <td>500000.0</td>\n",
       "      <td>5.0</td>\n",
       "      <td>14500.0</td>\n",
       "      <td>TEJCONTROL SYSTEMS PVT LTD</td>\n",
       "      <td>HDFC Bank</td>\n",
       "      <td>Y</td>\n",
       "      <td>...</td>\n",
       "      <td>NaN</td>\n",
       "      <td>N</td>\n",
       "      <td>Web-browser</td>\n",
       "      <td>E</td>\n",
       "      <td>S133</td>\n",
       "      <td>3</td>\n",
       "      <td>0</td>\n",
       "      <td>0</td>\n",
       "      <td>I</td>\n",
       "      <td>-49</td>\n",
       "    </tr>\n",
       "    <tr>\n",
       "      <th>58</th>\n",
       "      <td>Male</td>\n",
       "      <td>45000</td>\n",
       "      <td>2050-05-20</td>\n",
       "      <td>2015-05-01</td>\n",
       "      <td>0.0</td>\n",
       "      <td>0.0</td>\n",
       "      <td>0.0</td>\n",
       "      <td>XHZ</td>\n",
       "      <td>ICICI Bank</td>\n",
       "      <td>Y</td>\n",
       "      <td>...</td>\n",
       "      <td>NaN</td>\n",
       "      <td>N</td>\n",
       "      <td>Web-browser</td>\n",
       "      <td>B</td>\n",
       "      <td>S133</td>\n",
       "      <td>2</td>\n",
       "      <td>0</td>\n",
       "      <td>0</td>\n",
       "      <td>I</td>\n",
       "      <td>-35</td>\n",
       "    </tr>\n",
       "    <tr>\n",
       "      <th>89</th>\n",
       "      <td>Male</td>\n",
       "      <td>600000</td>\n",
       "      <td>2068-04-01</td>\n",
       "      <td>2015-05-01</td>\n",
       "      <td>1000000.0</td>\n",
       "      <td>5.0</td>\n",
       "      <td>15000.0</td>\n",
       "      <td>GOPALA KRISHNA</td>\n",
       "      <td>State Bank of India</td>\n",
       "      <td>Y</td>\n",
       "      <td>...</td>\n",
       "      <td>NaN</td>\n",
       "      <td>N</td>\n",
       "      <td>Web-browser</td>\n",
       "      <td>B</td>\n",
       "      <td>S133</td>\n",
       "      <td>3</td>\n",
       "      <td>0</td>\n",
       "      <td>0</td>\n",
       "      <td>III</td>\n",
       "      <td>-53</td>\n",
       "    </tr>\n",
       "  </tbody>\n",
       "</table>\n",
       "<p>3 rows × 26 columns</p>\n",
       "</div>"
      ],
      "text/plain": [
       "   Gender  Monthly_Income        DOB Lead_Creation_Date  Loan_Amount_Applied  \\\n",
       "34   Male           56000 2064-05-28         2015-05-01             500000.0   \n",
       "58   Male           45000 2050-05-20         2015-05-01                  0.0   \n",
       "89   Male          600000 2068-04-01         2015-05-01            1000000.0   \n",
       "\n",
       "    Loan_Tenure_Applied  Existing_EMI               Employer_Name  \\\n",
       "34                  5.0       14500.0  TEJCONTROL SYSTEMS PVT LTD   \n",
       "58                  0.0           0.0                         XHZ   \n",
       "89                  5.0       15000.0              GOPALA KRISHNA   \n",
       "\n",
       "         Salary_Account Mobile_Verified  ...  EMI_Loan_Submitted Filled_Form  \\\n",
       "34            HDFC Bank               Y  ...                 NaN           N   \n",
       "58           ICICI Bank               Y  ...                 NaN           N   \n",
       "89  State Bank of India               Y  ...                 NaN           N   \n",
       "\n",
       "    Device_Type  Var2  Source  Var4  LoggedIn Disbursed City_size Age  \n",
       "34  Web-browser     E    S133     3         0         0         I -49  \n",
       "58  Web-browser     B    S133     2         0         0         I -35  \n",
       "89  Web-browser     B    S133     3         0         0       III -53  \n",
       "\n",
       "[3 rows x 26 columns]"
      ]
     },
     "execution_count": 847,
     "metadata": {},
     "output_type": "execute_result"
    }
   ],
   "source": [
    "data[data['Age'] < 0].head(3)"
   ]
  },
  {
   "cell_type": "markdown",
   "metadata": {},
   "source": [
    "Inaccurate DOB have been inserted (last 2 digits) and date format has inserted the front 2 digits of the current year. That is why the negative figure for the age has come."
   ]
  },
  {
   "cell_type": "code",
   "execution_count": 848,
   "metadata": {},
   "outputs": [],
   "source": [
    "data['Age'] = data.Age.where(data.Age > 0, data.Age+100)"
   ]
  },
  {
   "cell_type": "code",
   "execution_count": 849,
   "metadata": {},
   "outputs": [],
   "source": [
    "data = data.drop(['DOB','Lead_Creation_Date'], axis=1)"
   ]
  },
  {
   "cell_type": "code",
   "execution_count": 850,
   "metadata": {},
   "outputs": [
    {
     "data": {
      "text/plain": [
       "<AxesSubplot:xlabel='Age', ylabel='Count'>"
      ]
     },
     "execution_count": 850,
     "metadata": {},
     "output_type": "execute_result"
    },
    {
     "data": {
      "image/png": "[encoded data removed]",
      "text/plain": [
       "<Figure size 432x288 with 1 Axes>"
      ]
     },
     "metadata": {
      "needs_background": "light"
     },
     "output_type": "display_data"
    }
   ],
   "source": [
    "sns.histplot(data['Age'], kde=True, bins=10)"
   ]
  },
  {
   "cell_type": "markdown",
   "metadata": {},
   "source": [
    "### Monthly_Income"
   ]
  },
  {
   "cell_type": "code",
   "execution_count": 851,
   "metadata": {
    "scrolled": true
   },
   "outputs": [
    {
     "data": {
      "text/plain": [
       "<AxesSubplot:xlabel='Monthly_Income', ylabel='Count'>"
      ]
     },
     "execution_count": 851,
     "metadata": {},
     "output_type": "execute_result"
    },
    {
     "data": {
      "image/png": "[encoded data removed]",
      "text/plain": [
       "<Figure size 432x288 with 1 Axes>"
      ]
     },
     "metadata": {
      "needs_background": "light"
     },
     "output_type": "display_data"
    }
   ],
   "source": [
    "sns.histplot(data[data['Monthly_Income'] < 10e4]['Monthly_Income'], kde=True, bins=50) # there is a few people who earns a lot"
   ]
  },
  {
   "cell_type": "code",
   "execution_count": 852,
   "metadata": {},
   "outputs": [
    {
     "name": "stdout",
     "output_type": "stream",
     "text": [
      "45000     1034\n",
      "14000     1017\n",
      "13000      975\n",
      "32000      971\n",
      "28000      969\n",
      "100000     968\n",
      "60000      965\n",
      "24000      904\n",
      "27000      874\n",
      "26000      809\n",
      "Name: Monthly_Income, dtype: int64\n",
      "---------------------\n",
      "count    8.702000e+04\n",
      "mean     5.884997e+04\n",
      "std      2.177511e+06\n",
      "min      0.000000e+00\n",
      "25%      1.650000e+04\n",
      "50%      2.500000e+04\n",
      "75%      4.000000e+04\n",
      "max      4.445544e+08\n",
      "Name: Monthly_Income, dtype: float64\n",
      "---------------------\n",
      "Monthly_Income median:  25000.0\n"
     ]
    }
   ],
   "source": [
    "print(data['Monthly_Income'].value_counts()[15:25])  # piece of data income  with one amount abowe mean\n",
    "print('---------------------')\n",
    "print(data['Monthly_Income'].describe())\n",
    "print('---------------------')\n",
    "print(\"Monthly_Income median:  \" + str(data['Monthly_Income'].median()))"
   ]
  },
  {
   "cell_type": "code",
   "execution_count": 853,
   "metadata": {},
   "outputs": [
    {
     "name": "stdout",
     "output_type": "stream",
     "text": [
      "0.0 1100000.0\n",
      "0.0 80000.0\n"
     ]
    }
   ],
   "source": [
    "min_treshold1, max_treshold1 = data.Monthly_Income.quantile([0,0.999])\n",
    "print(min_treshold1, max_treshold1)\n",
    "min_treshold2, max_treshold2 = data.Monthly_Income.quantile([0,0.935])\n",
    "print(min_treshold2, max_treshold2)"
   ]
  },
  {
   "cell_type": "code",
   "execution_count": 854,
   "metadata": {},
   "outputs": [],
   "source": [
    "df1 = data[(data.Monthly_Income > min_treshold1) & (data.Monthly_Income < max_treshold1)]\n",
    "df2 = data[(data.Monthly_Income > min_treshold2) & (data.Monthly_Income < max_treshold2)]"
   ]
  },
  {
   "cell_type": "code",
   "execution_count": 855,
   "metadata": {},
   "outputs": [
    {
     "data": {
      "text/plain": [
       "Text(0, 0.5, 'Monthly_Income')"
      ]
     },
     "execution_count": 855,
     "metadata": {},
     "output_type": "execute_result"
    },
    {
     "data": {
      "image/png": "[encoded data removed]",
      "text/plain": [
       "<Figure size 1296x54 with 1 Axes>"
      ]
     },
     "metadata": {
      "needs_background": "light"
     },
     "output_type": "display_data"
    },
    {
     "data": {
      "image/png": "[encoded data removed]",
      "text/plain": [
       "<Figure size 1296x54 with 1 Axes>"
      ]
     },
     "metadata": {
      "needs_background": "light"
     },
     "output_type": "display_data"
    },
    {
     "data": {
      "image/png": "[encoded data removed]",
      "text/plain": [
       "<Figure size 1296x54 with 1 Axes>"
      ]
     },
     "metadata": {
      "needs_background": "light"
     },
     "output_type": "display_data"
    }
   ],
   "source": [
    "plt.figure(figsize=(18, 0.75))\n",
    "sns.boxplot(x=\"Monthly_Income\",\n",
    "            data=data, \n",
    "            showmeans=True,\n",
    "            meanprops={\"marker\":\"o\",\n",
    "                       \"markerfacecolor\":\"yellow\", \n",
    "                       \"markeredgecolor\":\"black\",\n",
    "                      \"markersize\":\"10\"})\n",
    "plt.xlabel(\"Salary in Indian rupee [0,1]\", size=11)\n",
    "plt.ylabel(\"Monthly_Income\", size=10)\n",
    "\n",
    "plt.figure(figsize=(18, 0.75))\n",
    "sns.boxplot(x=\"Monthly_Income\",\n",
    "            data=df1, \n",
    "            showmeans=True,\n",
    "            meanprops={\"marker\":\"o\",\n",
    "                       \"markerfacecolor\":\"yellow\", \n",
    "                       \"markeredgecolor\":\"black\",\n",
    "                      \"markersize\":\"10\"})\n",
    "plt.xlabel(\"Salary in Indian rupee [0,0.9992]\", size=11)\n",
    "plt.ylabel(\"Monthly_Income\", size=10)\n",
    "\n",
    "plt.figure(figsize=(18, 0.75))\n",
    "sns.boxplot(x=\"Monthly_Income\",\n",
    "            data=df2, \n",
    "            showmeans=True,\n",
    "            meanprops={\"marker\":\"o\",\n",
    "                       \"markerfacecolor\":\"yellow\", \n",
    "                       \"markeredgecolor\":\"black\",\n",
    "                      \"markersize\":\"10\"})\n",
    "plt.xlabel(\"Salary in Indian rupee [0,0.935]\", size=11)\n",
    "plt.ylabel(\"Monthly_Income\", size=10)\n"
   ]
  },
  {
   "cell_type": "markdown",
   "metadata": {},
   "source": [
    "The employer names and monthly income below are strings and numbers in random order, unreal entry."
   ]
  },
  {
   "cell_type": "code",
   "execution_count": 856,
   "metadata": {},
   "outputs": [
    {
     "name": "stdout",
     "output_type": "stream",
     "text": [
      "Employer Name:  GOOGLE  ,Monthly income: 444554443\n",
      "Employer Name:  JSJSJSH  ,Monthly income: 383838383\n",
      "Employer Name:  54543543535  ,Monthly income: 120100132\n"
     ]
    }
   ],
   "source": [
    "print('Employer Name:  ' + str(data.Employer_Name.iloc[53141]) + '  ,Monthly income: ' + str(data.Monthly_Income.iloc[53141]))\n",
    "print('Employer Name:  ' + str(data.Employer_Name.iloc[48497]) + '  ,Monthly income: ' + str(data.Monthly_Income.iloc[48497]))\n",
    "print('Employer Name:  ' + str(data.Employer_Name.iloc[25533]) + '  ,Monthly income: ' + str(data.Monthly_Income.iloc[25533]))"
   ]
  },
  {
   "cell_type": "code",
   "execution_count": 857,
   "metadata": {},
   "outputs": [],
   "source": [
    "data = df1  #assigned remove outliers from the data frame "
   ]
  },
  {
   "cell_type": "code",
   "execution_count": 858,
   "metadata": {},
   "outputs": [
    {
     "data": {
      "text/plain": [
       "<AxesSubplot:xlabel='Monthly_Income', ylabel='Count'>"
      ]
     },
     "execution_count": 858,
     "metadata": {},
     "output_type": "execute_result"
    },
    {
     "data": {
      "image/png": "[encoded data removed]",
      "text/plain": [
       "<Figure size 432x288 with 1 Axes>"
      ]
     },
     "metadata": {
      "needs_background": "light"
     },
     "output_type": "display_data"
    }
   ],
   "source": [
    "sns.histplot(data['Monthly_Income'], kde=True, bins=15)"
   ]
  },
  {
   "cell_type": "code",
   "execution_count": 859,
   "metadata": {},
   "outputs": [
    {
     "data": {
      "text/plain": [
       "<AxesSubplot:xlabel='Mntly_Incm_log', ylabel='Count'>"
      ]
     },
     "execution_count": 859,
     "metadata": {},
     "output_type": "execute_result"
    },
    {
     "data": {
      "image/png": "[encoded data removed]",
      "text/plain": [
       "<Figure size 432x288 with 1 Axes>"
      ]
     },
     "metadata": {
      "needs_background": "light"
     },
     "output_type": "display_data"
    }
   ],
   "source": [
    "data['Mntly_Incm_log'] = np.log(data['Monthly_Income'] + 1)\n",
    "sns.histplot(data['Mntly_Incm_log'], kde=True, bins=50)"
   ]
  },
  {
   "cell_type": "code",
   "execution_count": 860,
   "metadata": {},
   "outputs": [
    {
     "name": "stderr",
     "output_type": "stream",
     "text": [
      "C:\\Users\\arman\\anaconda3\\lib\\site-packages\\seaborn\\distributions.py:2551: FutureWarning: `distplot` is a deprecated function and will be removed in a future version. Please adapt your code to use either `displot` (a figure-level function with similar flexibility) or `histplot` (an axes-level function for histograms).\n",
      "  warnings.warn(msg, FutureWarning)\n",
      "C:\\Users\\arman\\anaconda3\\lib\\site-packages\\seaborn\\distributions.py:2551: FutureWarning: `distplot` is a deprecated function and will be removed in a future version. Please adapt your code to use either `displot` (a figure-level function with similar flexibility) or `histplot` (an axes-level function for histograms).\n",
      "  warnings.warn(msg, FutureWarning)\n"
     ]
    },
    {
     "data": {
      "text/plain": [
       "<matplotlib.legend.Legend at 0x19d5028d430>"
      ]
     },
     "execution_count": 860,
     "metadata": {},
     "output_type": "execute_result"
    },
    {
     "data": {
      "image/png": "[encoded data removed]",
      "text/plain": [
       "<Figure size 432x288 with 1 Axes>"
      ]
     },
     "metadata": {
      "needs_background": "light"
     },
     "output_type": "display_data"
    }
   ],
   "source": [
    "sns.distplot(data[data['Disbursed'] == 1]['Mntly_Incm_log'], hist=True, color=\"m\", kde_kws={\"shade\": True}, label='Disbursed')\n",
    "sns.distplot(data[data['Disbursed'] == 0]['Mntly_Incm_log'], hist=True, color=\"c\", kde_kws={\"shade\": True}, label='Not disbursed')\n",
    "plt.legend()"
   ]
  },
  {
   "cell_type": "code",
   "execution_count": 861,
   "metadata": {},
   "outputs": [],
   "source": [
    "data['Monthly_Income'] = data.Monthly_Income.astype(int)"
   ]
  },
  {
   "cell_type": "code",
   "execution_count": 862,
   "metadata": {},
   "outputs": [
    {
     "name": "stdout",
     "output_type": "stream",
     "text": [
      "<class 'pandas.core.frame.DataFrame'>\n",
      "Int64Index: 86617 entries, 0 to 87019\n",
      "Data columns (total 25 columns):\n",
      " #   Column                 Non-Null Count  Dtype  \n",
      "---  ------                 --------------  -----  \n",
      " 0   Gender                 86617 non-null  object \n",
      " 1   Monthly_Income         86617 non-null  int32  \n",
      " 2   Loan_Amount_Applied    86546 non-null  float64\n",
      " 3   Loan_Tenure_Applied    86546 non-null  float64\n",
      " 4   Existing_EMI           86546 non-null  float64\n",
      " 5   Employer_Name          86546 non-null  object \n",
      " 6   Salary_Account         75175 non-null  object \n",
      " 7   Mobile_Verified        86617 non-null  object \n",
      " 8   Var5                   86617 non-null  int64  \n",
      " 9   Var1                   86617 non-null  object \n",
      " 10  Loan_Amount_Submitted  52325 non-null  float64\n",
      " 11  Loan_Tenure_Submitted  52325 non-null  float64\n",
      " 12  Interest_Rate          27693 non-null  float64\n",
      " 13  Processing_Fee         27387 non-null  float64\n",
      " 14  EMI_Loan_Submitted     27693 non-null  float64\n",
      " 15  Filled_Form            86617 non-null  object \n",
      " 16  Device_Type            86617 non-null  object \n",
      " 17  Var2                   86617 non-null  object \n",
      " 18  Source                 86617 non-null  object \n",
      " 19  Var4                   86617 non-null  int64  \n",
      " 20  LoggedIn               86617 non-null  int64  \n",
      " 21  Disbursed              86617 non-null  int64  \n",
      " 22  City_size              86617 non-null  object \n",
      " 23  Age                    86617 non-null  int64  \n",
      " 24  Mntly_Incm_log         86617 non-null  float64\n",
      "dtypes: float64(9), int32(1), int64(5), object(10)\n",
      "memory usage: 16.9+ MB\n"
     ]
    }
   ],
   "source": [
    "data.info()"
   ]
  },
  {
   "cell_type": "markdown",
   "metadata": {},
   "source": [
    "### Employer_Name"
   ]
  },
  {
   "cell_type": "markdown",
   "metadata": {},
   "source": [
    "We will divide set to 3 groups:\n",
    "- major companies: 2\n",
    "- other companies: 1\n",
    "- unemployed: 0"
   ]
  },
  {
   "cell_type": "code",
   "execution_count": 863,
   "metadata": {
    "scrolled": false
   },
   "outputs": [
    {
     "name": "stdout",
     "output_type": "stream",
     "text": [
      "0                                                4600\n",
      "TATA CONSULTANCY SERVICES LTD (TCS)               550\n",
      "COGNIZANT TECHNOLOGY SOLUTIONS INDIA PVT LTD      404\n",
      "ACCENTURE SERVICES PVT LTD                        322\n",
      "GOOGLE                                            299\n",
      "                                                 ... \n",
      "PREDOMINANT ENGINEERS AND CONTRACTORS PVT LTD       1\n",
      "SHEGAL AUTOMOTIVES PVT LTD                          1\n",
      "SAMSUNG INDIA                                       1\n",
      "A.RAGUNATHAN                                        1\n",
      "DEVINDER                                            1\n",
      "Name: Employer_Name, Length: 43522, dtype: int64\n",
      "No data:  71\n"
     ]
    }
   ],
   "source": [
    "print(data.Employer_Name.value_counts())\n",
    "print(\"No data:  \" + str(data['Employer_Name'].isna().sum()))"
   ]
  },
  {
   "cell_type": "code",
   "execution_count": 864,
   "metadata": {},
   "outputs": [
    {
     "name": "stdout",
     "output_type": "stream",
     "text": [
      "Current percentage of disbursed loan applications is  1.4697 %\n"
     ]
    }
   ],
   "source": [
    "print('Current percentage of disbursed loan applications is  ' + str(((data.Disbursed[data.Disbursed == 1].sum())/(len(data))*100).round(4))+ ' %')"
   ]
  },
  {
   "cell_type": "markdown",
   "metadata": {},
   "source": [
    "Disbursed percentage of NaN in Employer_Name [2.82%] does not match the current percentage of total disbursed loan applications [1.4697%] or even \"0\" Employer_Name [0.11%]. NaN data will be assigned to \"0\" Employer_Name. The value of Monthly_Income will indicate group above median and reassign it to set '1'."
   ]
  },
  {
   "cell_type": "markdown",
   "metadata": {},
   "source": [
    "It can be assumed that \"0\" stands for unemployment or self-employment. In 2015, banks recognized the self-employed as an uncertain source of income. We will continue to look for specific rules on self-employment. "
   ]
  },
  {
   "cell_type": "code",
   "execution_count": 865,
   "metadata": {},
   "outputs": [
    {
     "name": "stdout",
     "output_type": "stream",
     "text": [
      "0                                               4671\n",
      "TATA CONSULTANCY SERVICES LTD (TCS)              550\n",
      "COGNIZANT TECHNOLOGY SOLUTIONS INDIA PVT LTD     404\n",
      "ACCENTURE SERVICES PVT LTD                       322\n",
      "GOOGLE                                           299\n",
      "Name: Employer_Name, dtype: int64\n"
     ]
    }
   ],
   "source": [
    "data.loc[data.Employer_Name.isna(), 'Employer_Name'] = '0'\n",
    "print(data.Employer_Name.value_counts().head())"
   ]
  },
  {
   "cell_type": "code",
   "execution_count": 866,
   "metadata": {
    "scrolled": false
   },
   "outputs": [
    {
     "data": {
      "text/plain": [
       "12993                                             SELF\n",
       "20003                                             SELF\n",
       "22664                                          ONESELF\n",
       "38067                                             SELF\n",
       "49194                SELF EMPLOYED WOMENS ASSO.,BHARAT\n",
       "56245    SYND RURAL SELF EMPLOYMENT TRAINING INSTITUTE\n",
       "58632                       SELF EMPLOYED ASSO.,BHARAT\n",
       "59060                                             SELF\n",
       "66081                       KOSHAL SELF-HELP COOP LTD.\n",
       "72679                                             SELF\n",
       "74588                                           MYSELF\n",
       "Name: Employer_Name, dtype: object"
      ]
     },
     "execution_count": 866,
     "metadata": {},
     "output_type": "execute_result"
    }
   ],
   "source": [
    "df_self_employed  = data.Employer_Name[data.apply(lambda row: row.astype(str).str.contains('SELF').any(), axis=1)]\n",
    "df_self_employed "
   ]
  },
  {
   "cell_type": "markdown",
   "metadata": {},
   "source": [
    "KOSHAL SELF-HELP COOP LTD., \n",
    "SYND RURAL SELF EMPLOYMENT TRAINING INSTITUTE, \n",
    "SELF EMPLOYED WOMENS ASSO.,BHARAT, \n",
    "SELF EMPLOYED ASSO.,BHARAT \n",
    "are companies."
   ]
  },
  {
   "cell_type": "code",
   "execution_count": 867,
   "metadata": {
    "scrolled": false
   },
   "outputs": [
    {
     "data": {
      "text/html": [
       "<div>\n",
       "<style scoped>\n",
       "    .dataframe tbody tr th:only-of-type {\n",
       "        vertical-align: middle;\n",
       "    }\n",
       "\n",
       "    .dataframe tbody tr th {\n",
       "        vertical-align: top;\n",
       "    }\n",
       "\n",
       "    .dataframe thead th {\n",
       "        text-align: right;\n",
       "    }\n",
       "</style>\n",
       "<table border=\"1\" class=\"dataframe\">\n",
       "  <thead>\n",
       "    <tr style=\"text-align: right;\">\n",
       "      <th></th>\n",
       "      <th>Gender</th>\n",
       "      <th>Monthly_Income</th>\n",
       "      <th>Loan_Amount_Applied</th>\n",
       "      <th>Loan_Tenure_Applied</th>\n",
       "      <th>Existing_EMI</th>\n",
       "      <th>Employer_Name</th>\n",
       "      <th>Salary_Account</th>\n",
       "      <th>Mobile_Verified</th>\n",
       "      <th>Var5</th>\n",
       "      <th>Var1</th>\n",
       "      <th>...</th>\n",
       "      <th>Filled_Form</th>\n",
       "      <th>Device_Type</th>\n",
       "      <th>Var2</th>\n",
       "      <th>Source</th>\n",
       "      <th>Var4</th>\n",
       "      <th>LoggedIn</th>\n",
       "      <th>Disbursed</th>\n",
       "      <th>City_size</th>\n",
       "      <th>Age</th>\n",
       "      <th>Mntly_Incm_log</th>\n",
       "    </tr>\n",
       "  </thead>\n",
       "  <tbody>\n",
       "    <tr>\n",
       "      <th>71301</th>\n",
       "      <td>Female</td>\n",
       "      <td>32000</td>\n",
       "      <td>100000.0</td>\n",
       "      <td>0.0</td>\n",
       "      <td>9450.0</td>\n",
       "      <td>0</td>\n",
       "      <td>NaN</td>\n",
       "      <td>N</td>\n",
       "      <td>0</td>\n",
       "      <td>HBXX</td>\n",
       "      <td>...</td>\n",
       "      <td>N</td>\n",
       "      <td>Web-browser</td>\n",
       "      <td>G</td>\n",
       "      <td>S122</td>\n",
       "      <td>7</td>\n",
       "      <td>0</td>\n",
       "      <td>1</td>\n",
       "      <td>V</td>\n",
       "      <td>42</td>\n",
       "      <td>10.373522</td>\n",
       "    </tr>\n",
       "    <tr>\n",
       "      <th>71476</th>\n",
       "      <td>Female</td>\n",
       "      <td>38500</td>\n",
       "      <td>700000.0</td>\n",
       "      <td>0.0</td>\n",
       "      <td>2000.0</td>\n",
       "      <td>0</td>\n",
       "      <td>State Bank of Mysore</td>\n",
       "      <td>N</td>\n",
       "      <td>0</td>\n",
       "      <td>HBXX</td>\n",
       "      <td>...</td>\n",
       "      <td>N</td>\n",
       "      <td>Web-browser</td>\n",
       "      <td>G</td>\n",
       "      <td>S122</td>\n",
       "      <td>7</td>\n",
       "      <td>1</td>\n",
       "      <td>1</td>\n",
       "      <td>V</td>\n",
       "      <td>48</td>\n",
       "      <td>10.558439</td>\n",
       "    </tr>\n",
       "    <tr>\n",
       "      <th>74223</th>\n",
       "      <td>Male</td>\n",
       "      <td>25000</td>\n",
       "      <td>0.0</td>\n",
       "      <td>0.0</td>\n",
       "      <td>0.0</td>\n",
       "      <td>0</td>\n",
       "      <td>NaN</td>\n",
       "      <td>Y</td>\n",
       "      <td>0</td>\n",
       "      <td>HBXX</td>\n",
       "      <td>...</td>\n",
       "      <td>N</td>\n",
       "      <td>Web-browser</td>\n",
       "      <td>G</td>\n",
       "      <td>S122</td>\n",
       "      <td>6</td>\n",
       "      <td>1</td>\n",
       "      <td>1</td>\n",
       "      <td>II</td>\n",
       "      <td>24</td>\n",
       "      <td>10.126671</td>\n",
       "    </tr>\n",
       "    <tr>\n",
       "      <th>77876</th>\n",
       "      <td>Male</td>\n",
       "      <td>25000</td>\n",
       "      <td>0.0</td>\n",
       "      <td>0.0</td>\n",
       "      <td>0.0</td>\n",
       "      <td>0</td>\n",
       "      <td>NaN</td>\n",
       "      <td>Y</td>\n",
       "      <td>0</td>\n",
       "      <td>HBXX</td>\n",
       "      <td>...</td>\n",
       "      <td>N</td>\n",
       "      <td>Web-browser</td>\n",
       "      <td>G</td>\n",
       "      <td>S122</td>\n",
       "      <td>0</td>\n",
       "      <td>1</td>\n",
       "      <td>1</td>\n",
       "      <td>I</td>\n",
       "      <td>34</td>\n",
       "      <td>10.126671</td>\n",
       "    </tr>\n",
       "    <tr>\n",
       "      <th>79697</th>\n",
       "      <td>Female</td>\n",
       "      <td>53200</td>\n",
       "      <td>550000.0</td>\n",
       "      <td>0.0</td>\n",
       "      <td>0.0</td>\n",
       "      <td>0</td>\n",
       "      <td>NaN</td>\n",
       "      <td>N</td>\n",
       "      <td>0</td>\n",
       "      <td>HBXX</td>\n",
       "      <td>...</td>\n",
       "      <td>N</td>\n",
       "      <td>Web-browser</td>\n",
       "      <td>G</td>\n",
       "      <td>S122</td>\n",
       "      <td>7</td>\n",
       "      <td>1</td>\n",
       "      <td>1</td>\n",
       "      <td>II</td>\n",
       "      <td>33</td>\n",
       "      <td>10.881832</td>\n",
       "    </tr>\n",
       "    <tr>\n",
       "      <th>85958</th>\n",
       "      <td>Male</td>\n",
       "      <td>25000</td>\n",
       "      <td>NaN</td>\n",
       "      <td>NaN</td>\n",
       "      <td>NaN</td>\n",
       "      <td>0</td>\n",
       "      <td>NaN</td>\n",
       "      <td>Y</td>\n",
       "      <td>8</td>\n",
       "      <td>HBXH</td>\n",
       "      <td>...</td>\n",
       "      <td>N</td>\n",
       "      <td>Web-browser</td>\n",
       "      <td>G</td>\n",
       "      <td>S122</td>\n",
       "      <td>3</td>\n",
       "      <td>1</td>\n",
       "      <td>1</td>\n",
       "      <td>II</td>\n",
       "      <td>28</td>\n",
       "      <td>10.126671</td>\n",
       "    </tr>\n",
       "    <tr>\n",
       "      <th>86607</th>\n",
       "      <td>Male</td>\n",
       "      <td>37000</td>\n",
       "      <td>NaN</td>\n",
       "      <td>NaN</td>\n",
       "      <td>NaN</td>\n",
       "      <td>0</td>\n",
       "      <td>NaN</td>\n",
       "      <td>Y</td>\n",
       "      <td>12</td>\n",
       "      <td>HBXB</td>\n",
       "      <td>...</td>\n",
       "      <td>Y</td>\n",
       "      <td>Web-browser</td>\n",
       "      <td>G</td>\n",
       "      <td>S122</td>\n",
       "      <td>5</td>\n",
       "      <td>1</td>\n",
       "      <td>1</td>\n",
       "      <td>II</td>\n",
       "      <td>28</td>\n",
       "      <td>10.518700</td>\n",
       "    </tr>\n",
       "  </tbody>\n",
       "</table>\n",
       "<p>7 rows × 25 columns</p>\n",
       "</div>"
      ],
      "text/plain": [
       "       Gender  Monthly_Income  Loan_Amount_Applied  Loan_Tenure_Applied  \\\n",
       "71301  Female           32000             100000.0                  0.0   \n",
       "71476  Female           38500             700000.0                  0.0   \n",
       "74223    Male           25000                  0.0                  0.0   \n",
       "77876    Male           25000                  0.0                  0.0   \n",
       "79697  Female           53200             550000.0                  0.0   \n",
       "85958    Male           25000                  NaN                  NaN   \n",
       "86607    Male           37000                  NaN                  NaN   \n",
       "\n",
       "       Existing_EMI Employer_Name        Salary_Account Mobile_Verified  Var5  \\\n",
       "71301        9450.0             0                   NaN               N     0   \n",
       "71476        2000.0             0  State Bank of Mysore               N     0   \n",
       "74223           0.0             0                   NaN               Y     0   \n",
       "77876           0.0             0                   NaN               Y     0   \n",
       "79697           0.0             0                   NaN               N     0   \n",
       "85958           NaN             0                   NaN               Y     8   \n",
       "86607           NaN             0                   NaN               Y    12   \n",
       "\n",
       "       Var1  ...  Filled_Form  Device_Type  Var2  Source  Var4 LoggedIn  \\\n",
       "71301  HBXX  ...            N  Web-browser     G    S122     7        0   \n",
       "71476  HBXX  ...            N  Web-browser     G    S122     7        1   \n",
       "74223  HBXX  ...            N  Web-browser     G    S122     6        1   \n",
       "77876  HBXX  ...            N  Web-browser     G    S122     0        1   \n",
       "79697  HBXX  ...            N  Web-browser     G    S122     7        1   \n",
       "85958  HBXH  ...            N  Web-browser     G    S122     3        1   \n",
       "86607  HBXB  ...            Y  Web-browser     G    S122     5        1   \n",
       "\n",
       "      Disbursed City_size Age  Mntly_Incm_log  \n",
       "71301         1         V  42       10.373522  \n",
       "71476         1         V  48       10.558439  \n",
       "74223         1        II  24       10.126671  \n",
       "77876         1         I  34       10.126671  \n",
       "79697         1        II  33       10.881832  \n",
       "85958         1        II  28       10.126671  \n",
       "86607         1        II  28       10.518700  \n",
       "\n",
       "[7 rows x 25 columns]"
      ]
     },
     "execution_count": 867,
     "metadata": {},
     "output_type": "execute_result"
    }
   ],
   "source": [
    "filter_Employer_name = np.array(['SELF', 'Self Employ', 'ONESELF', 'MYSELF'])\n",
    "df_self_employed_and_unemployed = data[(data.Employer_Name.isin(filter_Employer_name) | (data.Employer_Name == '0')) & (data.Disbursed == 1)]\n",
    "df_self_employed_and_unemployed"
   ]
  },
  {
   "cell_type": "code",
   "execution_count": 868,
   "metadata": {},
   "outputs": [
    {
     "name": "stderr",
     "output_type": "stream",
     "text": [
      "<ipython-input-868-36750947569a>:2: UserWarning: Boolean Series key will be reindexed to match DataFrame index.\n",
      "  sns.histplot(df_NoEmployerName[data['Monthly_Income'] < 10e4]['Monthly_Income'], kde=True, bins=50)\n"
     ]
    },
    {
     "data": {
      "text/plain": [
       "<AxesSubplot:xlabel='Monthly_Income', ylabel='Count'>"
      ]
     },
     "execution_count": 868,
     "metadata": {},
     "output_type": "execute_result"
    },
    {
     "data": {
      "image/png": "[encoded data removed]",
      "text/plain": [
       "<Figure size 432x288 with 1 Axes>"
      ]
     },
     "metadata": {
      "needs_background": "light"
     },
     "output_type": "display_data"
    }
   ],
   "source": [
    "df_NoEmployerName = data[(data.Employer_Name == '0')]\n",
    "sns.histplot(df_NoEmployerName[data['Monthly_Income'] < 10e4]['Monthly_Income'], kde=True, bins=50)"
   ]
  },
  {
   "cell_type": "code",
   "execution_count": 869,
   "metadata": {
    "scrolled": true
   },
   "outputs": [
    {
     "data": {
      "text/plain": [
       "0                                               4679\n",
       "TATA CONSULTANCY SERVICES LTD (TCS)              550\n",
       "COGNIZANT TECHNOLOGY SOLUTIONS INDIA PVT LTD     404\n",
       "ACCENTURE SERVICES PVT LTD                       322\n",
       "GOOGLE                                           299\n",
       "Name: Employer_cat, dtype: int64"
      ]
     },
     "execution_count": 869,
     "metadata": {},
     "output_type": "execute_result"
    }
   ],
   "source": [
    "data['Employer_cat'] = data.Employer_Name.where(~data.Employer_Name.isin(filter_Employer_name), '0')\n",
    "data.Employer_cat.value_counts().head()"
   ]
  },
  {
   "cell_type": "code",
   "execution_count": 870,
   "metadata": {},
   "outputs": [
    {
     "name": "stdout",
     "output_type": "stream",
     "text": [
      "1\n",
      "0\n"
     ]
    },
    {
     "data": {
      "text/plain": [
       "0                                               2853\n",
       "1                                               1820\n",
       "TATA CONSULTANCY SERVICES LTD (TCS)              550\n",
       "COGNIZANT TECHNOLOGY SOLUTIONS INDIA PVT LTD     404\n",
       "ACCENTURE SERVICES PVT LTD                       322\n",
       "Name: Employer_cat, dtype: int64"
      ]
     },
     "execution_count": 870,
     "metadata": {},
     "output_type": "execute_result"
    }
   ],
   "source": [
    "# Above median condition 25000\n",
    "data['Employer_cat'] = data.Employer_Name.where(~((data.Employer_Name == '0') & (data.Monthly_Income > data['Monthly_Income'].median())), '1')\n",
    "print(data.Employer_cat[71301])\n",
    "print(data.Employer_cat[74223])\n",
    "data.Employer_cat.value_counts().head()"
   ]
  },
  {
   "cell_type": "code",
   "execution_count": 871,
   "metadata": {
    "scrolled": true
   },
   "outputs": [
    {
     "data": {
      "text/plain": [
       "1    77612\n",
       "2     6152\n",
       "0     2853\n",
       "Name: Employer_cat, dtype: int64"
      ]
     },
     "execution_count": 871,
     "metadata": {},
     "output_type": "execute_result"
    }
   ],
   "source": [
    "mjr_cmpns = data.Employer_Name.value_counts().index[2:51]\n",
    "data['Employer_cat'] = data.Employer_cat.where(~data['Employer_cat'].isin(mjr_cmpns), other='2')\n",
    "data['Employer_cat'] = data.Employer_cat.where(((data.Employer_cat == '0') |\n",
    "                                                  (data.Employer_cat == '1') |\n",
    "                                                  (data.Employer_cat == '2')), other='1')\n",
    "data.Employer_cat.value_counts()                                       "
   ]
  },
  {
   "cell_type": "code",
   "execution_count": 872,
   "metadata": {},
   "outputs": [],
   "source": [
    "data = data.drop([\"Monthly_Income\"], axis=1)\n",
    "data = data.drop([\"Employer_Name\"], axis=1)\n",
    "data = data.drop([\"Salary_Account\"], axis=1)"
   ]
  },
  {
   "cell_type": "markdown",
   "metadata": {},
   "source": [
    "# Gender"
   ]
  },
  {
   "cell_type": "code",
   "execution_count": 873,
   "metadata": {},
   "outputs": [
    {
     "name": "stdout",
     "output_type": "stream",
     "text": [
      "Missing data: 0\n",
      "Male      49459\n",
      "Female    37158\n",
      "Name: Gender, dtype: int64\n"
     ]
    }
   ],
   "source": [
    "print(\"Missing data: \" + str(data['Gender'].isna().sum()))\n",
    "print(data['Gender'].value_counts())"
   ]
  },
  {
   "cell_type": "code",
   "execution_count": 874,
   "metadata": {},
   "outputs": [
    {
     "data": {
      "image/png": "[encoded data removed]",
      "text/plain": [
       "<Figure size 432x288 with 1 Axes>"
      ]
     },
     "metadata": {
      "needs_background": "light"
     },
     "output_type": "display_data"
    }
   ],
   "source": [
    "sns.countplot(x=\"Disbursed\", hue=\"Gender\", data=data)\n",
    "plt.yscale('log')"
   ]
  },
  {
   "cell_type": "code",
   "execution_count": 875,
   "metadata": {},
   "outputs": [],
   "source": [
    "data['Male'] = pd.get_dummies(data=data.Gender, columns=data['Gender'], drop_first=True)\n",
    "data = data.drop([\"Gender\"], axis=1)"
   ]
  },
  {
   "cell_type": "markdown",
   "metadata": {},
   "source": [
    "# Mobile_Verified"
   ]
  },
  {
   "cell_type": "code",
   "execution_count": 876,
   "metadata": {},
   "outputs": [
    {
     "name": "stdout",
     "output_type": "stream",
     "text": [
      "Missing data: 0\n",
      "Y    56086\n",
      "N    30531\n",
      "Name: Mobile_Verified, dtype: int64\n"
     ]
    }
   ],
   "source": [
    "print(\"Missing data: \" + str(data['Mobile_Verified'].isna().sum()))\n",
    "print(data['Mobile_Verified'].value_counts())"
   ]
  },
  {
   "cell_type": "code",
   "execution_count": 877,
   "metadata": {},
   "outputs": [
    {
     "data": {
      "image/png": "[encoded data removed]",
      "text/plain": [
       "<Figure size 432x288 with 1 Axes>"
      ]
     },
     "metadata": {
      "needs_background": "light"
     },
     "output_type": "display_data"
    }
   ],
   "source": [
    "sns.countplot(x=\"Disbursed\", hue=\"Mobile_Verified\", data=data)\n",
    "plt.yscale('log')"
   ]
  },
  {
   "cell_type": "code",
   "execution_count": 878,
   "metadata": {},
   "outputs": [],
   "source": [
    "data['Mobile_Verified'] = pd.get_dummies(data=data.Mobile_Verified, columns=data[\"Mobile_Verified\"], drop_first=True)"
   ]
  },
  {
   "cell_type": "markdown",
   "metadata": {},
   "source": [
    "# Device_Type"
   ]
  },
  {
   "cell_type": "code",
   "execution_count": 879,
   "metadata": {},
   "outputs": [
    {
     "name": "stdout",
     "output_type": "stream",
     "text": [
      "Missing data: 0\n",
      "Web-browser    63930\n",
      "Mobile         22687\n",
      "Name: Device_Type, dtype: int64\n"
     ]
    }
   ],
   "source": [
    "print(\"Missing data: \" + str(data['Device_Type'].isna().sum()))\n",
    "print(data['Device_Type'].value_counts())"
   ]
  },
  {
   "cell_type": "code",
   "execution_count": 880,
   "metadata": {},
   "outputs": [
    {
     "data": {
      "image/png": "[encoded data removed]",
      "text/plain": [
       "<Figure size 432x288 with 1 Axes>"
      ]
     },
     "metadata": {
      "needs_background": "light"
     },
     "output_type": "display_data"
    }
   ],
   "source": [
    "sns.countplot(x=\"Disbursed\", hue=\"Device_Type\", data=data)\n",
    "plt.yscale('log')"
   ]
  },
  {
   "cell_type": "code",
   "execution_count": 881,
   "metadata": {},
   "outputs": [],
   "source": [
    "data['Wb_brwsr'] = pd.get_dummies(data=data.Device_Type, columns=data['Device_Type'], drop_first=True)\n",
    "data = data.drop([\"Device_Type\"], axis=1)"
   ]
  },
  {
   "cell_type": "markdown",
   "metadata": {},
   "source": [
    "#  Filled_Form"
   ]
  },
  {
   "cell_type": "code",
   "execution_count": 882,
   "metadata": {},
   "outputs": [
    {
     "name": "stdout",
     "output_type": "stream",
     "text": [
      "Missing data: 0\n",
      "N    67150\n",
      "Y    19467\n",
      "Name: Filled_Form, dtype: int64\n"
     ]
    }
   ],
   "source": [
    "print(\"Missing data: \" + str(data['Filled_Form'].isna().sum()))\n",
    "print(data['Filled_Form'].value_counts())"
   ]
  },
  {
   "cell_type": "code",
   "execution_count": 883,
   "metadata": {},
   "outputs": [
    {
     "data": {
      "image/png": "[encoded data removed]",
      "text/plain": [
       "<Figure size 432x288 with 1 Axes>"
      ]
     },
     "metadata": {
      "needs_background": "light"
     },
     "output_type": "display_data"
    }
   ],
   "source": [
    "sns.countplot(x=\"Disbursed\", hue=\"Filled_Form\", data=data)\n",
    "plt.yscale('log')"
   ]
  },
  {
   "cell_type": "code",
   "execution_count": 884,
   "metadata": {},
   "outputs": [],
   "source": [
    "data['Filled_Form'] = pd.get_dummies(data=data.Filled_Form, columns=data['Filled_Form'], drop_first=True)"
   ]
  },
  {
   "cell_type": "markdown",
   "metadata": {},
   "source": [
    "# Loan_Amount_Applied, Loan_Tenure_Applied, Existing_EMI"
   ]
  },
  {
   "cell_type": "code",
   "execution_count": 885,
   "metadata": {
    "scrolled": true
   },
   "outputs": [
    {
     "name": "stdout",
     "output_type": "stream",
     "text": [
      "Missing data: 71\n",
      "0.0         28515\n",
      "100000.0    14304\n",
      "200000.0    13046\n",
      "300000.0     9983\n",
      "500000.0     9752\n",
      "            ...  \n",
      "242000.0        1\n",
      "275000.0        1\n",
      "460000.0        1\n",
      "10.0            1\n",
      "620000.0        1\n",
      "Name: Loan_Amount_Applied, Length: 276, dtype: int64\n"
     ]
    }
   ],
   "source": [
    "print(\"Missing data: \" + str(data['Loan_Amount_Applied'].isna().sum()))\n",
    "print(data['Loan_Amount_Applied'].value_counts())"
   ]
  },
  {
   "cell_type": "code",
   "execution_count": 886,
   "metadata": {
    "scrolled": true
   },
   "outputs": [],
   "source": [
    "data = data.dropna(subset=[\"Loan_Amount_Applied\"])"
   ]
  },
  {
   "cell_type": "markdown",
   "metadata": {},
   "source": [
    "Due to the specified zero amount, a new column will be created to inform you that the specified amount is missing."
   ]
  },
  {
   "cell_type": "code",
   "execution_count": 887,
   "metadata": {},
   "outputs": [],
   "source": [
    "data['Missing_LAA'] = data.Loan_Amount_Applied == 0.0\n",
    "data.loc[data.Loan_Amount_Applied.isna(), 'Loan_Amount_Applied'] = 0.0\n",
    "data['Missing_LAA'] = pd.get_dummies(data=data.Missing_LAA, columns=data['Missing_LAA'], drop_first=True)"
   ]
  },
  {
   "cell_type": "code",
   "execution_count": 888,
   "metadata": {},
   "outputs": [
    {
     "name": "stdout",
     "output_type": "stream",
     "text": [
      "0.0     33503\n",
      "5.0     19058\n",
      "3.0     13071\n",
      "2.0      9451\n",
      "4.0      6614\n",
      "1.0      4802\n",
      "10.0       40\n",
      "7.0         3\n",
      "6.0         2\n",
      "9.0         1\n",
      "8.0         1\n",
      "Name: Loan_Tenure_Applied, dtype: int64\n"
     ]
    }
   ],
   "source": [
    "print(data['Loan_Tenure_Applied'].value_counts())"
   ]
  },
  {
   "cell_type": "code",
   "execution_count": 889,
   "metadata": {},
   "outputs": [],
   "source": [
    "data['Missing_LTA'] = data.Loan_Tenure_Applied == 0.0\n",
    "data.loc[data.Loan_Tenure_Applied.isna(), 'Loan_Tenure_Applied'] = 0.0\n",
    "data['Missing_LTA'] = pd.get_dummies(data=data.Missing_LTA, columns=data['Missing_LTA'], drop_first=True)"
   ]
  },
  {
   "cell_type": "code",
   "execution_count": 890,
   "metadata": {},
   "outputs": [
    {
     "name": "stdout",
     "output_type": "stream",
     "text": [
      "0.0        57876\n",
      "5000.0      2693\n",
      "10000.0     1736\n",
      "3000.0      1581\n",
      "4000.0      1226\n",
      "           ...  \n",
      "1989.0         1\n",
      "9387.0         1\n",
      "11434.0        1\n",
      "13481.0        1\n",
      "11243.0        1\n",
      "Name: Existing_EMI, Length: 3745, dtype: int64\n"
     ]
    }
   ],
   "source": [
    "print(data['Existing_EMI'].value_counts())"
   ]
  },
  {
   "cell_type": "markdown",
   "metadata": {},
   "source": [
    "# Loan_Amount_Submitted, Loan_Tenure_Submitted, EMI_Loan_Submitted, "
   ]
  },
  {
   "cell_type": "markdown",
   "metadata": {},
   "source": [
    "These defective values will be posted with zeros as unallocated value, payback time after verification, etc."
   ]
  },
  {
   "cell_type": "code",
   "execution_count": 902,
   "metadata": {},
   "outputs": [],
   "source": [
    "data['Loan_Amount_Submitted'] = data.Loan_Tenure_Applied.fillna(0)\n",
    "data['Loan_Tenure_Submitted'] = data.Loan_Tenure_Submitted.fillna(0)\n",
    "data['EMI_Loan_Submitted'] = data.EMI_Loan_Submitted.fillna(0)\n",
    "data['Interest_Rate'] = data.Interest_Rate.fillna(0)\n",
    "data['Processing_Fee'] = data.Processing_Fee.fillna(0)"
   ]
  },
  {
   "cell_type": "markdown",
   "metadata": {},
   "source": [
    "#### The test dataset differs from the training dataset in that it lacks the Disbursed and LoggedIn columns. So it's a good idea to use Var1,2,4,5 and Source for prediction."
   ]
  },
  {
   "cell_type": "markdown",
   "metadata": {},
   "source": [
    "# Var1"
   ]
  },
  {
   "cell_type": "code",
   "execution_count": 913,
   "metadata": {},
   "outputs": [
    {
     "data": {
      "text/plain": [
       "HBXX    58882\n",
       "HBXC     8998\n",
       "HBXB     4470\n",
       "HAXA     2905\n",
       "HBXA     2110\n",
       "HAXB     2008\n",
       "HBXD     1961\n",
       "HAXC     1525\n",
       "HBXH      966\n",
       "HCXF      721\n",
       "HAYT      508\n",
       "HAVC      383\n",
       "HAXM      267\n",
       "HCXD      237\n",
       "HCYS      217\n",
       "HVYS      186\n",
       "HAZD      109\n",
       "HCXG       78\n",
       "HAXF       15\n",
       "Name: Var1, dtype: int64"
      ]
     },
     "execution_count": 913,
     "metadata": {},
     "output_type": "execute_result"
    }
   ],
   "source": [
    "data['Var1'].value_counts()"
   ]
  },
  {
   "cell_type": "code",
   "execution_count": 952,
   "metadata": {},
   "outputs": [
    {
     "data": {
      "text/plain": [
       "<matplotlib.legend.Legend at 0x19d72485280>"
      ]
     },
     "execution_count": 952,
     "metadata": {},
     "output_type": "execute_result"
    },
    {
     "data": {
      "image/png": "[encoded data removed]",
      "text/plain": [
       "<Figure size 1152x288 with 1 Axes>"
      ]
     },
     "metadata": {
      "needs_background": "light"
     },
     "output_type": "display_data"
    }
   ],
   "source": [
    "plt.figure(figsize=(16, 4))\n",
    "sns.countplot(x=\"Var1\", hue=\"Disbursed\", data=data, palette='magma')\n",
    "plt.yscale('log')\n",
    "plt.legend(loc='upper right')"
   ]
  },
  {
   "cell_type": "code",
   "execution_count": 956,
   "metadata": {
    "scrolled": true
   },
   "outputs": [
    {
     "ename": "AttributeError",
     "evalue": "'DataFrameGroupBy' object has no attribute 'value_counts'",
     "output_type": "error",
     "traceback": [
      "\u001b[1;31m---------------------------------------------------------------------------\u001b[0m",
      "\u001b[1;31mAttributeError\u001b[0m                            Traceback (most recent call last)",
      "\u001b[1;32m<ipython-input-956-d66fa20294dd>\u001b[0m in \u001b[0;36m<module>\u001b[1;34m\u001b[0m\n\u001b[1;32m----> 1\u001b[1;33m \u001b[0mvar1_means\u001b[0m \u001b[1;33m=\u001b[0m \u001b[0mdata\u001b[0m\u001b[1;33m.\u001b[0m\u001b[0mgroupby\u001b[0m\u001b[1;33m(\u001b[0m\u001b[1;34m'Var1'\u001b[0m\u001b[1;33m)\u001b[0m\u001b[1;33m.\u001b[0m\u001b[0mvalue_counts\u001b[0m\u001b[1;33m(\u001b[0m\u001b[1;33m)\u001b[0m \u001b[1;31m#['Disbursed'].mean()\u001b[0m\u001b[1;33m\u001b[0m\u001b[1;33m\u001b[0m\u001b[0m\n\u001b[0m\u001b[0;32m      2\u001b[0m \u001b[0mvar1_means\u001b[0m\u001b[1;33m\u001b[0m\u001b[1;33m\u001b[0m\u001b[0m\n",
      "\u001b[1;32m~\\anaconda3\\lib\\site-packages\\pandas\\core\\groupby\\groupby.py\u001b[0m in \u001b[0;36m__getattr__\u001b[1;34m(self, attr)\u001b[0m\n\u001b[0;32m    701\u001b[0m             \u001b[1;32mreturn\u001b[0m \u001b[0mself\u001b[0m\u001b[1;33m[\u001b[0m\u001b[0mattr\u001b[0m\u001b[1;33m]\u001b[0m\u001b[1;33m\u001b[0m\u001b[1;33m\u001b[0m\u001b[0m\n\u001b[0;32m    702\u001b[0m \u001b[1;33m\u001b[0m\u001b[0m\n\u001b[1;32m--> 703\u001b[1;33m         raise AttributeError(\n\u001b[0m\u001b[0;32m    704\u001b[0m             \u001b[1;34mf\"'{type(self).__name__}' object has no attribute '{attr}'\"\u001b[0m\u001b[1;33m\u001b[0m\u001b[1;33m\u001b[0m\u001b[0m\n\u001b[0;32m    705\u001b[0m         )\n",
      "\u001b[1;31mAttributeError\u001b[0m: 'DataFrameGroupBy' object has no attribute 'value_counts'"
     ]
    }
   ],
   "source": [
    "var1_means = data.groupby('Var1').value_counts() #['Disbursed'].mean()\n",
    "var1_means"
   ]
  },
  {
   "cell_type": "code",
   "execution_count": null,
   "metadata": {},
   "outputs": [],
   "source": [
    "var1_means.sort_values(ascending=False)"
   ]
  },
  {
   "cell_type": "code",
   "execution_count": null,
   "metadata": {},
   "outputs": [],
   "source": []
  },
  {
   "cell_type": "code",
   "execution_count": null,
   "metadata": {},
   "outputs": [],
   "source": [
    "mapping_dict = dict(pd.cut(var1_means[var1_means.index != 'HBXX'], 5, labels=range(5)))"
   ]
  },
  {
   "cell_type": "code",
   "execution_count": null,
   "metadata": {},
   "outputs": [],
   "source": [
    "mapping_dict"
   ]
  },
  {
   "cell_type": "code",
   "execution_count": null,
   "metadata": {},
   "outputs": [],
   "source": [
    "def convert_var1(var1):\n",
    "    if var1 in mapping_dict.keys():\n",
    "        return mapping_dict[var1]\n",
    "    else:\n",
    "        return \"Other\"\n",
    "    \n",
    "data[\"Var1\"] = data.Var1.apply(convert_var1)"
   ]
  },
  {
   "cell_type": "code",
   "execution_count": null,
   "metadata": {},
   "outputs": [],
   "source": []
  },
  {
   "cell_type": "code",
   "execution_count": 907,
   "metadata": {},
   "outputs": [
    {
     "name": "stdout",
     "output_type": "stream",
     "text": [
      "<class 'pandas.core.frame.DataFrame'>\n",
      "Int64Index: 86546 entries, 0 to 87019\n",
      "Data columns (total 25 columns):\n",
      " #   Column                 Non-Null Count  Dtype  \n",
      "---  ------                 --------------  -----  \n",
      " 0   Loan_Amount_Applied    86546 non-null  float64\n",
      " 1   Loan_Tenure_Applied    86546 non-null  float64\n",
      " 2   Existing_EMI           86546 non-null  float64\n",
      " 3   Mobile_Verified        86546 non-null  uint8  \n",
      " 4   Var5                   86546 non-null  int64  \n",
      " 5   Var1                   86546 non-null  object \n",
      " 6   Loan_Amount_Submitted  86546 non-null  float64\n",
      " 7   Loan_Tenure_Submitted  86546 non-null  float64\n",
      " 8   Interest_Rate          86546 non-null  float64\n",
      " 9   Processing_Fee         86546 non-null  float64\n",
      " 10  EMI_Loan_Submitted     86546 non-null  float64\n",
      " 11  Filled_Form            86546 non-null  uint8  \n",
      " 12  Var2                   86546 non-null  object \n",
      " 13  Source                 86546 non-null  object \n",
      " 14  Var4                   86546 non-null  int64  \n",
      " 15  Disbursed              86546 non-null  int64  \n",
      " 16  City_size              86546 non-null  object \n",
      " 17  Age                    86546 non-null  int64  \n",
      " 18  Mntly_Incm_log         86546 non-null  float64\n",
      " 19  Employer_cat           86546 non-null  object \n",
      " 20  Male                   86546 non-null  uint8  \n",
      " 21  Wb_brwsr               86546 non-null  uint8  \n",
      " 22  Missing_LAA            86546 non-null  uint8  \n",
      " 23  Missing_LTA            86546 non-null  uint8  \n",
      " 24  EMI_Loan_Submitted     86546 non-null  float64\n",
      "dtypes: float64(10), int64(4), object(5), uint8(6)\n",
      "memory usage: 13.7+ MB\n"
     ]
    }
   ],
   "source": [
    "data.info()"
   ]
  },
  {
   "cell_type": "code",
   "execution_count": 67,
   "metadata": {},
   "outputs": [
    {
     "data": {
      "text/plain": [
       "Loan_Amount_Applied      0.032707\n",
       "Loan_Tenure_Applied      0.036751\n",
       "Existing_EMI             0.068954\n",
       "Mobile_Verified          0.044524\n",
       "Var5                     0.117226\n",
       "Loan_Amount_Submitted    0.043668\n",
       "Loan_Tenure_Submitted   -0.001637\n",
       "Interest_Rate           -0.092576\n",
       "Processing_Fee           0.033358\n",
       "EMI_Loan_Submitted       0.049532\n",
       "Filled_Form              0.036981\n",
       "Var4                     0.037297\n",
       "LoggedIn                 0.683375\n",
       "Disbursed                1.000000\n",
       "Age                      0.037460\n",
       "Mntly_Incm_log           0.103889\n",
       "Male                     0.044217\n",
       "Wb_brwsr                 0.015149\n",
       "dtype: float64"
      ]
     },
     "execution_count": 67,
     "metadata": {},
     "output_type": "execute_result"
    }
   ],
   "source": [
    "data.corrwith(data['Disbursed'])"
   ]
  },
  {
   "cell_type": "code",
   "execution_count": null,
   "metadata": {},
   "outputs": [],
   "source": [
    "data.Salary_Account.isna().sum()"
   ]
  },
  {
   "cell_type": "code",
   "execution_count": null,
   "metadata": {},
   "outputs": [],
   "source": []
  },
  {
   "cell_type": "code",
   "execution_count": null,
   "metadata": {},
   "outputs": [],
   "source": []
  },
  {
   "cell_type": "code",
   "execution_count": null,
   "metadata": {},
   "outputs": [],
   "source": []
  },
  {
   "cell_type": "code",
   "execution_count": null,
   "metadata": {},
   "outputs": [],
   "source": []
  },
  {
   "cell_type": "markdown",
   "metadata": {},
   "source": [
    "### Missing data & not significant data"
   ]
  },
  {
   "cell_type": "code",
   "execution_count": null,
   "metadata": {},
   "outputs": [],
   "source": [
    "data.corrwith(data['Disbursed'])"
   ]
  },
  {
   "cell_type": "code",
   "execution_count": null,
   "metadata": {},
   "outputs": [],
   "source": [
    "data.info"
   ]
  },
  {
   "cell_type": "markdown",
   "metadata": {},
   "source": [
    "The four categories have the same amount of missing data, eg Loan_Amount_Applied. It is difficult to supplement this data with a random, mean, or median value. There is a small percentage of this type of data. It is possible to remove it from the data set."
   ]
  },
  {
   "cell_type": "code",
   "execution_count": null,
   "metadata": {},
   "outputs": [],
   "source": [
    "data = data.drop('LoggedIn', axis=1)  # can not be used to prediction"
   ]
  },
  {
   "cell_type": "markdown",
   "metadata": {},
   "source": [
    "## Saving processed data to a csv file for future use. "
   ]
  },
  {
   "cell_type": "code",
   "execution_count": 904,
   "metadata": {},
   "outputs": [],
   "source": [
    "data.to_csv('Data/data_processed.csv')"
   ]
  },
  {
   "cell_type": "code",
   "execution_count": null,
   "metadata": {},
   "outputs": [],
   "source": []
  }
 ],
 "metadata": {
  "kernelspec": {
   "display_name": "Python 3",
   "language": "python",
   "name": "python3"
  },
  "language_info": {
   "codemirror_mode": {
    "name": "ipython",
    "version": 3
   },
   "file_extension": ".py",
   "mimetype": "text/x-python",
   "name": "python",
   "nbconvert_exporter": "python",
   "pygments_lexer": "ipython3",
   "version": "3.8.5"
  }
 },
 "nbformat": 4,
 "nbformat_minor": 4
}
